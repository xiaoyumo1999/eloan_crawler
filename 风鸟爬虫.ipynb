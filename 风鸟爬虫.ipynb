{
 "cells": [
  {
   "cell_type": "code",
   "execution_count": 1,
   "id": "62fa9149",
   "metadata": {},
   "outputs": [],
   "source": [
    "import os\n",
    "from datetime import datetime,time\n",
    "import pandas as pd\n",
    "import numpy as np\n",
    "import re\n",
    "import json\n",
    "from time import sleep\n",
    "import xlsxwriter\n",
    "from selenium import webdriver\n",
    "from selenium.webdriver.common.by import By\n",
    "from selenium.webdriver.support.ui import WebDriverWait\n",
    "from selenium.webdriver.support import expected_conditions as EC\n",
    "from selenium.common.exceptions import NoSuchElementException,TimeoutException\n",
    "from selenium.webdriver import ActionChains\n",
    "from selenium.common.exceptions import NoSuchElementException,TimeoutException\n"
   ]
  },
  {
   "cell_type": "markdown",
   "id": "6070b565",
   "metadata": {},
   "source": [
    "## 风鸟"
   ]
  },
  {
   "cell_type": "code",
   "execution_count": null,
   "id": "5afd2785",
   "metadata": {},
   "outputs": [],
   "source": [
    "driver=webdriver.Chrome()\n",
    "driver.get('https://www.riskbird.com/')\n",
    "sleep(5)\n",
    "##访问网站  \n",
    "driver.find_element(By.CSS_SELECTOR ,'#__nuxt > div > section > div > header > div.header-right > div.userinfo-wrap.userinfo-wrap-gohst > div').click()##选择登陆\n",
    "sleep(30)"
   ]
  },
  {
   "cell_type": "code",
   "execution_count": null,
   "id": "dc8bd6a0",
   "metadata": {},
   "outputs": [],
   "source": [
    "def tabels(driver): \n",
    "    driver.implicitly_wait(10)##等待元素加载完成\n",
    "#     enterprise.append(driver.find_element(By.ID,'//*[@id=\"__nuxt\"]/div/div[position()=3]/div/div[position()=2]/div[position()=1]/div[position()=2]/div[position()=1]/div[position()=2]/div[position()=1]/a/span/span').text)\n",
    "#     status.append(driver.find_element(By.ID,'//*[@id=\"__nuxt\"]/div/div[position()=3]/div/div[position()=2]/div[position()=1]/div[position()=2]/div[position()=1]/div[position()=2]/div[position()=1]/div').text)\n",
    "#     label.append(driver.find_element(By.ID,'//*[@id=\"__nuxt\"]/div/div[position()=3]/div/div[position()=2]/div[position()=1]/div[position()=2]/div[position()=1]/div[position()=2]/div[position()=3]/div[position()=1]/div[position()=1]/a/span').text)\n",
    "#     legel_peson.append(driver.find_element(By.CSS_SELECTOR,'#__nuxt > div > div.content-box > div > div.xs-loading-wrap > div.result-list-box > div.result-list > div:nth-child(1) > div.company-item > div.company-info > div:nth-child(1) > div:nth-child(1) > a > span').text)\n",
    "#     capital.append(driver.find_element(By.CSS_SELECTOR,'#__nuxt > div > div.content-box > div > div.xs-loading-wrap > div.result-list-box > div.result-list > div > div.company-item > div.company-info > div:nth-child(1) > div:nth-child(2)').text)\n",
    "#     times.append(driver.find_element(By.CSS_SELECTOR,'#__nuxt > div > div.content-box > div > div.xs-loading-wrap > div.result-list-box > div.result-list > div:nth-child(1) > div.company-item > div.company-info > div:nth-child(1) > div:nth-child(3)').text)\n",
    "    link=driver.find_element(By.CSS_SELECTOR,'#__nuxt > div > div.content-box > div > div.xs-loading-wrap > div.result-list-box > div.result-list > div:nth-child(1) > div.company-item > div.company-name > a').get_attribute('href')\n",
    "#     address.append(driver.find_element(By.CSS_SELECTOR,'#__nuxt > div > div.content-box > div > div.xs-loading-wrap > div.result-list-box > div.result-list > div > div.company-item > div.company-info > div:nth-child(3) > div').text)\n",
    "#     return enterprise,status,label,legel_peson,capital,times,address,links\n",
    "    return link\n",
    "    "
   ]
  },
  {
   "cell_type": "code",
   "execution_count": null,
   "id": "b7abb15a",
   "metadata": {},
   "outputs": [],
   "source": [
    "company=pd.read_excel('C:/Users/HP/Desktop/yto/网点访谈/武汉电商客户/汉口北-淘宝天猫-第四批.xlsx')"
   ]
  },
  {
   "cell_type": "code",
   "execution_count": null,
   "id": "1c09164c",
   "metadata": {},
   "outputs": [],
   "source": [
    "company=['芜湖华穗贸易有限公司','广州慕可生物科技有限公司','成都彩虹电器（集团）股份有限公司','湖北潮品优选科技有限公司','武汉蓝贝壳文化传播有限公司','武汉市雅彬文化传播有限公司','武汉市黄陂区时代文化用品商行','北京华熙海御科技有限公司','武汉卓一云创科技有限公司','欧莱雅（中国）有限公司','维达纸业（中国）有限公司','武汉市莫宁电子商务有限公司','武汉市武昌区兆尧电子商务服务部','武汉昌和华韵电子商务有限公司','深圳前海全棉时代电子商务有限公司','武汉领康生物科技有限公司','义乌市缘雍电子商务商行(个体工商户)','杭州网阔电子商务有限公司','东海县文渊图书销售有限公司','武汉蓬松生活科技有限公司','广东新又雅出版发行有限公司','永丰尚千焙食品有限公司','上海古贺商贸有限公司','武汉好心动科技有限公司','北京维康时代体育用品有限公司','武汉云开日盛商贸有限公司','武汉盛世鑫晨工贸有限公司']"
   ]
  },
  {
   "cell_type": "code",
   "execution_count": null,
   "id": "54de74e4",
   "metadata": {},
   "outputs": [],
   "source": [
    "len(list(set(company)))"
   ]
  },
  {
   "cell_type": "code",
   "execution_count": null,
   "id": "791e4ef9",
   "metadata": {
    "scrolled": true
   },
   "outputs": [],
   "source": [
    "links=[]\n",
    "error_links=[]\n",
    "for index,item in enumerate(company):\n",
    "    try:\n",
    "        input_blank=driver.find_element(By.CLASS_NAME,'el-input__inner')\n",
    "        input_blank.clear()\n",
    "        input_blank.send_keys(f'{item}')\n",
    "        driver.implicitly_wait(10)##等待元素加载完成\n",
    "        search_button=driver.find_element(By.CSS_SELECTOR,'#__nuxt > div > div.header-box > div > div > div.header-left > div > div.header-search-input-box.topBorder > div.header-search-btn')\n",
    "        search_button.click()\n",
    "        links.append((tabels(driver),item))\n",
    "        input_blank.clear()\n",
    "    except Exception as e:\n",
    "        print(item)\n",
    "        error_links.append(item)"
   ]
  },
  {
   "cell_type": "code",
   "execution_count": null,
   "id": "5e1b9a4f",
   "metadata": {},
   "outputs": [],
   "source": [
    "data=pd.DataFrame(links)\n",
    "data.columns=['风鸟链接','企业名称']"
   ]
  },
  {
   "cell_type": "code",
   "execution_count": null,
   "id": "1c567e2f",
   "metadata": {
    "scrolled": true
   },
   "outputs": [],
   "source": [
    "links"
   ]
  },
  {
   "cell_type": "code",
   "execution_count": null,
   "id": "51deb496",
   "metadata": {},
   "outputs": [],
   "source": [
    "enterprise=[]\n",
    "status=[]\n",
    "label=[]\n",
    "legel_peson=[]\n",
    "capital=[]\n",
    "types=[]\n",
    "times=[]\n",
    "address=[]\n",
    "ids=[]\n",
    "legal_inform=[]\n",
    "error_links=[]\n",
    "for link_name in links:\n",
    "    try:\n",
    "        print(link)\n",
    "        driver.get(link) \n",
    "        table=driver.find_element(By.CSS_SELECTOR,'#__nuxt > div > div.content-box > div > div > div.ent-content-box > div:nth-child(5) > div.xs-data-module-content > div.xs-descriptions-scoller > table > tbody')\n",
    "        cols=table.find_elements(By.CLASS_NAME,'xs-descriptions-td-box')\n",
    "        ids.append(cols[0].text)\n",
    "        enterprise.append(cols[1].text)\n",
    "        legel_peson.append(cols[2].text)\n",
    "        status.append(cols[3].text)\n",
    "        times.append(cols[4].text)\n",
    "        capital.append(cols[5].text)\n",
    "        types.append(cols[11].text)\n",
    "        address.append(cols[14].text)\n",
    "        tabel=driver.find_element(By.CSS_SELECTOR,'#__nuxt > div > div.content-box > div > div > div.ent-content-box > div:nth-child(5) > div.xs-data-module-content > div.xs-descriptions-scoller > table').text\n",
    "        driver.find_element(By.XPATH,'//*[@id=\"__nuxt\"]/div/div[3]/div/div/div[2]/div[1]/div[1]/div[1]/div[2]').click()\n",
    "        legal_informs=driver.find_elements(By.CSS_SELECTOR,'#__nuxt > div > div.content-box > div > div > div.ent-content-box > div:nth-child(1) > div.info-tabs-tag-list')\n",
    "        legal_inform.extend([l.text for l in legal_informs])\n",
    "    except:error_links.append(link)"
   ]
  },
  {
   "cell_type": "code",
   "execution_count": null,
   "id": "d3cbb766",
   "metadata": {},
   "outputs": [],
   "source": [
    "from itertools import zip_longest\n",
    "\n",
    "data=list(zip_longest(legel_peson,capital,times,address,ids,status,types,legal_inform)"
   ]
  },
  {
   "cell_type": "code",
   "execution_count": null,
   "id": "284704c5",
   "metadata": {},
   "outputs": [],
   "source": [
    "len(list(set(links)))"
   ]
  },
  {
   "cell_type": "code",
   "execution_count": null,
   "id": "c3733fc5",
   "metadata": {
    "scrolled": false
   },
   "outputs": [],
   "source": [
    "pd.DataFrame(data).drop_duplicates()"
   ]
  },
  {
   "cell_type": "code",
   "execution_count": null,
   "id": "b5c088b9",
   "metadata": {},
   "outputs": [],
   "source": [
    "a=['司法案件\\n0\\n被执行人\\n0\\n失信被执行人\\n0\\n限制高消费\\n0\\n破产重整']\n",
    "[item.replace('\\n',':') for item in a]"
   ]
  },
  {
   "cell_type": "markdown",
   "id": "845eea2f",
   "metadata": {},
   "source": [
    "## 企查查"
   ]
  },
  {
   "cell_type": "code",
   "execution_count": 597,
   "id": "be1a6e4a",
   "metadata": {
    "ExecuteTime": {
     "end_time": "2024-06-14T05:42:52.274737500Z",
     "start_time": "2024-06-14T05:42:52.166800900Z"
    }
   },
   "outputs": [],
   "source": [
    "\n",
    "import random \n",
    "from time import sleep\n",
    "import xlsxwriter\n",
    "import json\n",
    "import requests\n",
    "from selenium import webdriver\n",
    "from selenium.webdriver.common.by import By\n",
    "from selenium.webdriver.common.keys import Keys\n",
    "from selenium.webdriver.support.ui import WebDriverWait\n",
    "from selenium.webdriver.support import expected_conditions as EC\n",
    "from selenium.common.exceptions import NoSuchElementException,TimeoutException\n",
    "from selenium.webdriver import ActionChains"
   ]
  },
  {
   "cell_type": "code",
   "execution_count": null,
   "id": "ebc1deac",
   "metadata": {},
   "outputs": [],
   "source": [
    "a=pd.read_excel('C:/Users/HP/Desktop/yto/网点访谈/武汉电商客户/企查查链接.xlsx')"
   ]
  },
  {
   "cell_type": "code",
   "execution_count": null,
   "id": "362da836",
   "metadata": {},
   "outputs": [],
   "source": [
    "b=pd.read_excel('C:/Users/HP/Desktop/武汉企业企查查数据.xlsx')"
   ]
  },
  {
   "cell_type": "code",
   "execution_count": null,
   "id": "e8400dc8",
   "metadata": {},
   "outputs": [],
   "source": [
    "company=a['公司名称']"
   ]
  },
  {
   "cell_type": "code",
   "execution_count": null,
   "id": "2c50f42e",
   "metadata": {},
   "outputs": [],
   "source": [
    "driver=webdriver.Chrome()\n",
    "driver.get('https://www.qcc.com/')"
   ]
  },
  {
   "cell_type": "code",
   "execution_count": null,
   "id": "740533fc",
   "metadata": {},
   "outputs": [],
   "source": [
    "def get_links(company_name):\n",
    "    input_blank=driver.find_element(By.CSS_SELECTOR,'#searchKey')\n",
    "    input_blank.clear()\n",
    "    input_blank.send_keys(company_name)\n",
    "    driver.find_element(By.CLASS_NAME,'input-group-btn').click()\n",
    "    copy_title=driver.find_element(By.CSS_SELECTOR,'body > div > div.app-search.layout-content > div.container.m-t > div.adsearch-list.search-sticky-container > div > div.msearch > div > table > tr:nth-child(1) > td:nth-child(3) > div.maininfo > span > span.copy-title')\n",
    "    title=copy_title.find_elements(By.CSS_SELECTOR,'span')[0].text\n",
    "    status=copy_title.find_elements(By.CSS_SELECTOR,'span')[1].text\n",
    "    link=copy_title.find_element(By.CSS_SELECTOR,'a').get_attribute('href')\n",
    "    return title,status,link"
   ]
  },
  {
   "cell_type": "code",
   "execution_count": null,
   "id": "5b86dbaf",
   "metadata": {
    "collapsed": true
   },
   "outputs": [],
   "source": [
    "links=[]\n",
    "for index,item in enumerate(company):\n",
    "    if index %5==10:\n",
    "        sleep(random.randint(5,10)) \n",
    "        print('sleeping')\n",
    "    link=get_links(item)\n",
    "    print(item)\n",
    "    links.append(link)"
   ]
  },
  {
   "cell_type": "code",
   "execution_count": null,
   "id": "0e6def4d",
   "metadata": {},
   "outputs": [],
   "source": [
    "a=pd.DataFrame(links)\n",
    "a.columns=['公司名称','状态','链接']\n",
    "# a.to_excel('C:/Users/HP/Desktop/yto/网点访谈/武汉电商客户/企查查链接.xlsx',index=False)"
   ]
  },
  {
   "cell_type": "code",
   "execution_count": null,
   "id": "39d5dcad",
   "metadata": {},
   "outputs": [],
   "source": [
    "ready_company=pd.read_excel('C:/Users/HP/Desktop/yto/网点访谈/武汉电商客户/企查查链接.xlsx')"
   ]
  },
  {
   "cell_type": "code",
   "execution_count": null,
   "id": "fcf625ba",
   "metadata": {},
   "outputs": [],
   "source": [
    "def qcc_table(driver):\n",
    "    print(link)\n",
    "    driver.get(link)\n",
    "    main_part=driver.find_element(By.CLASS_NAME,'main-part')\n",
    "    ids=main_part.find_element(By.CLASS_NAME,'copy-value').text\n",
    "    legal_person=main_part.find_element(By.CLASS_NAME,'partner').text\n",
    "    montary=main_part.find_element(By.CSS_SELECTOR,'div:nth-child(3) > span > span.val').text\n",
    "    start_time=main_part.find_element(By.CSS_SELECTOR,'div:nth-child(4) > span > span > span > span.copy-value').text\n",
    "    address=main_part.find_element(By.CSS_SELECTOR,'div:nth-child(4) > span > span.val > span > a > span').text\n",
    "    try:\n",
    "        main_part_item_middle=driver.find_element(By.XPATH,'/html/body/div/div[2]/div[2]/div[1]/div/div[2]/div/div/div/div/div[5]')        \n",
    "        industry =main_part_item_middle.find_element(By.CLASS_NAME,'m-r-3').text\n",
    "        size=main_part_item_middle.find_element(By.CSS_SELECTOR,'div:nth-child(2) > span > span.val').text\n",
    "        try:\n",
    "            population=main_part_item_middle.find_element(By.CSS_SELECTOR,'div:nth-child(3) > span > span.val > span > span > span > span.m-r-3').text\n",
    "        except:\n",
    "            population=np.nan\n",
    "    except:\n",
    "        try:\n",
    "            main_part_item_middle=driver.find_element(By.XPATH,'/html/body/div/div[2]/div[2]/div[1]/div/div[2]/div/div/div/div[1]/div[5]')        \n",
    "            industry =main_part_item_middle.find_element(By.CLASS_NAME,'m-r-3').text\n",
    "            size=main_part_item_middle.find_element(By.CSS_SELECTOR,'div:nth-child(2) > span > span.val').text\n",
    "            try:\n",
    "                population=main_part_item_middle.find_element(By.CSS_SELECTOR,'div:nth-child(3) > span > span.val > span > span > span > span.m-r-3').text\n",
    "            except:\n",
    "                population=np.nan\n",
    "        except:\n",
    "            industry=np.nan\n",
    "            size=np.nan\n",
    "            population=np.nan\n",
    "    try:\n",
    "        introduction=driver.find_element(By.XPATH,'/html/body/div/div[2]/div[2]/div[1]/div/div[2]/div/div/span/span[1]/span/span[2]').text\n",
    "    except:\n",
    "        introduction=np.nan\n",
    "         \n",
    "    ##查看法律诉讼情况\n",
    "    \n",
    "    legal_inform_button=driver.find_element(By.XPATH,'/html/body/div/div[2]/div[4]/div/div/div[1]/a[2]')\n",
    "    legal_inform_button.click()\n",
    "    wait=WebDriverWait(driver,10)\n",
    "    legal_inform_button=wait.until(EC.presence_of_element_located((By.CSS_SELECTOR,'body > div > div.company-detail.layout-content > div.data-tabs.container > div:nth-child(2) > div > div.sub-nav')))\n",
    "    legal_inform=driver.find_element(By.CSS_SELECTOR,'body > div > div.company-detail.layout-content > div.data-tabs.container > div:nth-child(2) > div > div.sub-nav').text\n",
    "    return (link,ids,legal_person,montary,start_time,address,industry,size,population,introduction,legal_inform)"
   ]
  },
  {
   "cell_type": "code",
   "execution_count": null,
   "id": "4054bd52",
   "metadata": {},
   "outputs": [],
   "source": [
    "uncatch=b[b['企查查行业'].isna()]['企查查链接']"
   ]
  },
  {
   "cell_type": "code",
   "execution_count": null,
   "id": "a6a0b08c",
   "metadata": {},
   "outputs": [],
   "source": [
    "uncatch"
   ]
  },
  {
   "cell_type": "code",
   "execution_count": null,
   "id": "624b8357",
   "metadata": {
    "collapsed": true
   },
   "outputs": [],
   "source": [
    "# qcc_data=[]\n",
    "for index,link in enumerate(['https://www.qcc.com/firm/e9b2e082fc28cea9ab4eb1c3d34e131f.html']):\n",
    "    if index %5==0:\n",
    "        print('=====sleeping======')\n",
    "        sleep(random.randint(5,10)) \n",
    "    sleep(2)\n",
    "    driver.get(link)\n",
    "    qcc_data.append(qcc_table(driver))"
   ]
  },
  {
   "cell_type": "code",
   "execution_count": null,
   "id": "2fa70778",
   "metadata": {},
   "outputs": [],
   "source": [
    "qcc_data=pd.DataFrame(qcc_data)\n",
    "qcc_data.columns=b.columns[:11]"
   ]
  },
  {
   "cell_type": "code",
   "execution_count": null,
   "id": "93fabe8bcc4ca25e",
   "metadata": {},
   "outputs": [],
   "source": [
    "b=pd.concat([b,qcc_data])\n",
    "b=b.reset_index(drop=True)"
   ]
  },
  {
   "cell_type": "code",
   "execution_count": null,
   "id": "340a020a",
   "metadata": {},
   "outputs": [],
   "source": [
    "b=b.drop_duplicates(subset='企查查链接',keep='last')"
   ]
  },
  {
   "cell_type": "code",
   "execution_count": null,
   "id": "cb94e2ec",
   "metadata": {},
   "outputs": [],
   "source": [
    "b=b.drop_duplicates().reset_index(drop=True)\n",
    "uncatch=list(set(b['企查查链接'])^set(a['链接']))\n",
    "uncatch"
   ]
  },
  {
   "cell_type": "code",
   "execution_count": null,
   "id": "cd849b58d9c7908f",
   "metadata": {},
   "outputs": [],
   "source": [
    "b.to_excel('C:/Users/HP/Desktop/武汉企业企查查数据.xlsx',index=False)"
   ]
  },
  {
   "cell_type": "code",
   "execution_count": null,
   "id": "db2db7cc",
   "metadata": {},
   "outputs": [],
   "source": [
    "KEY = '4a36a0975b3ac3b97f4fbd9041ce5436'\n",
    "url = 'http://restapi.amap.com/v3/geocode/geo?parameters'\n",
    "\n",
    "def decode(address):\n",
    "    OUTPUT = 'json'\n",
    "    params = {\n",
    "#         'city': CITY,\n",
    "        'address': address, \n",
    "        'key': KEY,\n",
    "        'output': OUTPUT}\n",
    "    j = json.loads(requests.get(url, params).content)\n",
    "    return j['geocodes'][0]['province'],j['geocodes'][0]['city']"
   ]
  },
  {
   "cell_type": "code",
   "execution_count": null,
   "id": "fb1fb3e6",
   "metadata": {},
   "outputs": [],
   "source": [
    "province=[]\n",
    "city=[]\n",
    "for add in b['注册地址']:\n",
    "    try:\n",
    "        p,c=decode(add)\n",
    "        province.append(p)\n",
    "        city.append(c)\n",
    "    except:\n",
    "        print(f'========{add},error=======')\n",
    "        province.append(np.nan)\n",
    "        city.append(np.nan)"
   ]
  },
  {
   "cell_type": "code",
   "execution_count": null,
   "id": "aef22844",
   "metadata": {},
   "outputs": [],
   "source": [
    "b['省份']=province\n",
    "b['城市']=city\n",
    "b"
   ]
  },
  {
   "cell_type": "markdown",
   "id": "21767861",
   "metadata": {},
   "source": [
    "## 菜鸟"
   ]
  },
  {
   "cell_type": "code",
   "execution_count": null,
   "id": "0877f55b",
   "metadata": {},
   "outputs": [],
   "source": [
    "import os\n",
    "from datetime import datetime\n",
    "import pandas as pd\n",
    "import numpy as np\n",
    "import re\n",
    "import time\n",
    "from time import sleep\n",
    "import xlsxwriter\n",
    "from selenium import webdriver\n",
    "from selenium.webdriver.common.by import By\n",
    "from selenium.webdriver.common.keys import Keys\n",
    "from selenium.webdriver.support.ui import WebDriverWait\n",
    "from selenium.webdriver.support import expected_conditions as EC\n",
    "from selenium.common.exceptions import NoSuchElementException,TimeoutException\n",
    "from selenium.webdriver import ActionChains\n"
   ]
  },
  {
   "cell_type": "code",
   "execution_count": null,
   "id": "318cee18",
   "metadata": {},
   "outputs": [],
   "source": [
    "driver=webdriver.Chrome()\n",
    "driver.get('https://login.taobao.com/member/login.jhtml?f=top&redirectURL=https%3A%2F%2Fwww.taobao.com%2F')\n",
    "# driver.find_element(By.CSS_SELECTOR,'#fm-login-id').send_keys('13617397322')\n",
    "# driver.find_element(By.CSS_SELECTOR,'#fm-login-password').send_keys('')"
   ]
  },
  {
   "cell_type": "code",
   "execution_count": null,
   "id": "efa82a51",
   "metadata": {},
   "outputs": [],
   "source": [
    "# driver.find_element(By.CSS_SELECTOR,'#J_Search > div > ul').click()\n",
    "# driver.find_element(By.XPATH,'//*[@id=\"J_Search\"]/div/ul/li[3]').click()"
   ]
  },
  {
   "cell_type": "code",
   "execution_count": null,
   "id": "bd649928",
   "metadata": {},
   "outputs": [],
   "source": [
    "# shops=['高途图书专营店','中舟食品','高途英语口语角的店','世纪开元网上冲印','whmwsm88','木棉林旗舰店','维达旗舰店','琉璃图书专营店','曼丹珂旗舰店','作业帮图书旗舰店','cn-武汉成欣文化有限公司','彤莎旗舰店','fengying508','润百颜旗舰店','雨泽的小小屋','质每堂旗舰店','飞尼尔','樱桃小源子99','imobile思进专卖店','智司图书旗舰店','膜思维旗舰店','添添童阅图书专营店','澳曼琳旗袍旗舰店','martigues旗舰店','Repechage瑞波琴旗舰店','revguen雷光旗舰店','ECOOKING旗舰店','姬小二旗舰店','潮品优选电玩','洛生咏旗舰店','arolia家居','杭州消防999','宾高焊业1984','刘氏鞋城','阿娇娇娇姣','梦西莱旗舰店','伊乐美数码','晨心办公用品专营店','杰805373120','全棉时代官方旗舰店','军英陶瓷工艺','婉馨兰旗舰店','小黑仔mm520']\n",
    "# ids=['2214361996902','2829546776','100000089558015','16134769','2404178921','2946751039','100000079482002','2211858965027','2209955476110','100000088630010','2216365870401','2216249074878','338809906','100000085512003','3069679736','2217002351205','63342315','1594268649','2201505718799','2215920661953','2216174432036','2216544171438','100000087292029','2216753580221','100000083918047','2200528040334','100000082780010','2210269470468','2212879314667','2212403003258','2201413416641','3848839593','2206869779665','669991568','1833359990','2200639478872','2210446591453','4214601986','1690780095','430490406','2810620788','2208809435680','2456818613']\n",
    "# data=pd.DataFrame({'店铺名称':shops,'客户id':ids})"
   ]
  },
  {
   "cell_type": "code",
   "execution_count": null,
   "id": "ef80ed15",
   "metadata": {},
   "outputs": [],
   "source": [
    "data=pd.read_excel('C:/Users/HP/Desktop/tempt.xlsx',sheet_name='Sheet2')"
   ]
  },
  {
   "cell_type": "markdown",
   "id": "6f1bf7b9",
   "metadata": {},
   "source": [
    "### 获取店铺链接"
   ]
  },
  {
   "cell_type": "code",
   "execution_count": null,
   "id": "ff11d6eb",
   "metadata": {
    "scrolled": true
   },
   "outputs": [],
   "source": [
    "links=[]\n",
    "for index,shop in enumerate(data['店铺名称']):\n",
    "    print(shop)\n",
    "    driver.find_element(By.CSS_SELECTOR,'#q').send_keys(shop)\n",
    "    if index==0:\n",
    "        driver.find_element(By.CSS_SELECTOR,'#J_TSearchForm > div.search-button > button').click()\n",
    "    elif index%5==0:\n",
    "        print('============sleeping==========')\n",
    "        sleep(10)\n",
    "        driver.find_element(By.CSS_SELECTOR,'#J_SearchForm > button').click()\n",
    "    try:\n",
    "        driver.implicitly_wait(5)\n",
    "        link=driver.find_element(By.CSS_SELECTOR,'#list-container > li > ul > li.list-info.icon-5zhe > h4 > a.shop-name.J_shop_name')\n",
    "        link=link.get_attribute('href')\n",
    "        links.append(link)\n",
    "    except NoSuchElementException as e:\n",
    "        links.append('店铺查无')\n",
    "    driver.find_element(By.CSS_SELECTOR,'#q').clear()"
   ]
  },
  {
   "cell_type": "code",
   "execution_count": null,
   "id": "7b93cb1a",
   "metadata": {},
   "outputs": [],
   "source": [
    "data['店铺链接']=links"
   ]
  },
  {
   "cell_type": "code",
   "execution_count": null,
   "id": "1c1edbda",
   "metadata": {},
   "outputs": [],
   "source": [
    "data.to_excel('C:/Users/HP/Desktop/tempt.xlsx',index=False)"
   ]
  },
  {
   "cell_type": "markdown",
   "id": "000c2093",
   "metadata": {},
   "source": [
    "### 获取卖家id"
   ]
  },
  {
   "cell_type": "code",
   "execution_count": null,
   "id": "705b175e",
   "metadata": {},
   "outputs": [],
   "source": [
    "def get_id(driver):\n",
    "    WebDriverWait(driver, 10).until(EC.presence_of_element_located((By.TAG_NAME, 'body')))\n",
    "    # 假设source是已经获取的页面源代码\n",
    "    source = driver.page_source\n",
    "    # 正则表达式，用于匹配包含\"CPS.trace\"的<script>标签\n",
    "    pattern = r'<script.*?>\\s*(CPS\\.trace.*?)</script>'\n",
    "    # 使用re.DOTALL使.匹配包括换行符在内的任何字符\n",
    "    script = re.findall(pattern, source, re.DOTALL)[0]\n",
    "    pattern = r'\"sellerid\": (?:\"(\\d+)\"|(\\d+))'\n",
    "    match = re.search(pattern, script)\n",
    "    seller_id = match.group(1) if match.group(1) else match.group(2)\n",
    "    return seller_id"
   ]
  },
  {
   "cell_type": "markdown",
   "id": "7cf7f48e",
   "metadata": {},
   "source": [
    "### 淘宝"
   ]
  },
  {
   "cell_type": "code",
   "execution_count": null,
   "id": "d05f95c9",
   "metadata": {},
   "outputs": [],
   "source": [
    "def taobao(driver):\n",
    "    try:\n",
    "        name=driver.find_element(By.CLASS_NAME,'shopName--qijIco3R').text\n",
    "    #     script_content=driver.find_element(By.CSS_SELECTOR,'#ice-container > div > div > div.container--ZphYH1vW > div.container--JVhREvQT > div:nth-child(1) > img')\n",
    "    #     script_content=script_content.get_attribute('src')\n",
    "        sellerid =get_id(driver)\n",
    "        print(sellerid)\n",
    "        star=driver.find_element(By.CLASS_NAME,'rankImageUrl--pFLTZYUc').get_attribute('src')\n",
    "        fan=driver.find_element(By.CLASS_NAME,'fans--hensgUT0').text\n",
    "        label=driver.find_element(By.CLASS_NAME,'tagFeatureContainer--OuMCIkAK').text\n",
    "        #点击标题显示店铺评分数据\n",
    "        driver.find_element(By.CLASS_NAME,'pannerContainer--Fw4sNwIa').click()\n",
    "        wait = WebDriverWait(driver, 20)\n",
    "        scores = wait.until(EC.visibility_of_all_elements_located((By.CLASS_NAME, 'dsrScore--ucibI330')))\n",
    "        zh=scores[0].text\n",
    "        bb=scores[1].text\n",
    "        wl=scores[2].text\n",
    "        fw=scores[3].text\n",
    "\n",
    "        # 将gauratee变量的值追加到gauratees列表中，并使用正则表达式提取数字\n",
    "        try:\n",
    "            gauratee = driver.find_element(By.XPATH,'/html/body/div[position()=7]/div/div[position()=2]/div/div/div/div[position()=2]/div[position()=2]/span').text\n",
    "            gauratee = re.findall(r'\\d+\\.\\d+', gauratee)[0]\n",
    "        except:gauratee='无保证金'\n",
    "        # 将qualify变量的值追加到qualifies列表中\n",
    "        qualify=driver.find_element(By.CLASS_NAME,'descContainer--DWVc7k_d').text\n",
    "        # 获取goods和prices列表\n",
    "        driver.execute_script(\"window.scrollTo(0, document.body.scrollHeight);\")\n",
    "        goods_list=driver.find_element(By.CLASS_NAME,'container--JVhREvQT')\n",
    "        goods=len(goods_list.find_elements(By.CLASS_NAME,'cardContainer--CwazTl0O'))\n",
    "        prices = driver.find_elements(By.CLASS_NAME,'price--WtT08bds')\n",
    "        prices = [float(item.text.replace('¥','')) for item in prices]\n",
    "\n",
    "        # 获取customers列表，并处理文本\n",
    "        customers = driver.find_elements(By.CLASS_NAME,'count--nrEC6YGF')\n",
    "        customers = [float(item.text.replace('+人付款', '')) if '+' in item.text else float(item.text.replace('人付款', '')) for item in customers]\n",
    "        sales=sum(int(customers[i]) * int(prices[i]) for i in range(len(prices)))\n",
    "        web_type='淘宝'\n",
    "        return [name,link,sellerid,web_type,star,fan,label,zh,bb,wl,fw,gauratee,qualify,goods,sales]\n",
    "    except TimeoutException:taobao(driver)\n"
   ]
  },
  {
   "cell_type": "raw",
   "id": "57285460",
   "metadata": {},
   "source": [
    "driver.get('https://shop66241902.taobao.com/?spm=a230r.7195193.1997079397.88.5566d05d1sokJA')\n",
    "taobao(driver)"
   ]
  },
  {
   "cell_type": "markdown",
   "id": "51639b55",
   "metadata": {},
   "source": [
    "### 淘宝网"
   ]
  },
  {
   "cell_type": "code",
   "execution_count": null,
   "id": "00a058db",
   "metadata": {},
   "outputs": [],
   "source": [
    "def taobaowang(driver):\n",
    "    try:\n",
    "        try:\n",
    "            name=driver.find_element(By.CLASS_NAME,'shop-name-wrap').text\n",
    "        except:\n",
    "            name=driver.find_element(By.CSS_SELECTOR,'#header-content > div.shop-summary.J_TShopSummary > p > span.line-left.J_TShopLeft > span.shop-name > a').text\n",
    "        sellerid=get_id(driver)\n",
    "        print(sellerid)\n",
    "        stars=driver.find_element(By.CSS_SELECTOR,'#header-content > div.shop-summary.J_TShopSummary')\n",
    "        star=len(stars.find_elements(By.TAG_NAME,'i'))\n",
    "        fan=np.nan\n",
    "        label=np.nan\n",
    "        #点击标题显示店铺评分数据\n",
    "        zh=np.nan\n",
    "        try:\n",
    "            driver.find_element(By.CLASS_NAME,'shop-service-info').click()\n",
    "            wait = WebDriverWait(driver,20)\n",
    "            scores = wait.until(EC.visibility_of_all_elements_located((By.CLASS_NAME,'count')))\n",
    "            bb=scores[0].text\n",
    "            wl=scores[1].text\n",
    "            fw=scores[2].text\n",
    "            left_list=driver.find_element(By.CLASS_NAME,'info-item')##读取左边数据\n",
    "            qualify=left_list.find_element(By.CLASS_NAME,'title').text\n",
    "            try:\n",
    "                gauratee = left_list.find_element(By.CLASS_NAME,'tb-seller-bail').text\n",
    "                gauratee = gauratee.replace('元','')\n",
    "            except:gauratee='无保证金'\n",
    "        # 将qualify变量的值追加到qualifies列表中\n",
    "        except:\n",
    "            bb='暂时未收到评价'\n",
    "            wl='暂时未收到评价'\n",
    "            wl='暂时未收到评价'\n",
    "            fw='暂时未收到评价'\n",
    "            driver.find_element(By.CSS_SELECTOR,'#miniDSR').click()\n",
    "            wait = WebDriverWait(driver,20)\n",
    "            tabel_list=wait.until(EC.visibility_of_all_elements_located((By.CLASS_NAME,'popup-wrap')))\n",
    "            qualify=driver.find_element(By.CLASS_NAME,'id-name').text\n",
    "            try:\n",
    "                gauratee = tabel_list.find_element(By.CLASS_NAME,'orange J_TotalBailAmount').text\n",
    "                gauratee = gauratee.replace('元','')\n",
    "            except:gauratee='无保证金'\n",
    "\n",
    "    #     # 获取goods和prices列表\n",
    "    #     driver.execute_script(\"window.scrollTo(0, document.body.scrollHeight);\")\n",
    "    #     goods_list=driver.find_element(By.CLASS_NAME,'container--JVhREvQT')\n",
    "    #     prices = driver.find_elements(By.CLASS_NAME,'price--WtT08bds')\n",
    "    #     prices = [int(item.text.replace('¥','')) for item in prices]\n",
    "\n",
    "    #     # 获取customers列表，并处理文本\n",
    "    #     customers = driver.find_elements(By.CLASS_NAME,'count--nrEC6YGF')\n",
    "    #     customers = [int(item.text.replace('+人付款', '')) if '+' in item.text else int(item.text.replace('人付款', '')) for item in customers]\n",
    "        goods=np.nan   \n",
    "        sales=np.nan\n",
    "        web_type='淘宝网'\n",
    "        return [name,link,sellerid,web_type,star,fan,label,zh,bb,wl,fw,gauratee,qualify,goods,sales]\n",
    "    except TimeoutException:taobaowang(driver) "
   ]
  },
  {
   "cell_type": "code",
   "execution_count": null,
   "id": "29d21e68",
   "metadata": {
    "collapsed": true
   },
   "outputs": [],
   "source": [
    "# driver.get('https://shop34970285.taobao.com/')\n",
    "taobaowang(driver)"
   ]
  },
  {
   "cell_type": "code",
   "execution_count": null,
   "id": "968270b4",
   "metadata": {},
   "outputs": [],
   "source": [
    "driver.find_element(By.CSS_SELECTOR,'#header-content > div.logo-search > div.logos > a > img').get_attribute('src')"
   ]
  },
  {
   "cell_type": "markdown",
   "id": "50863089",
   "metadata": {},
   "source": [
    "### ifashion"
   ]
  },
  {
   "cell_type": "code",
   "execution_count": null,
   "id": "f9c4257d",
   "metadata": {},
   "outputs": [],
   "source": [
    "def ifashion(driver):\n",
    "##https://shop66241902.taobao.com/?spm=a230r.7195193.1997079397.88.5566d05d1sokJA\n",
    "##https://shop35999051.taobao.com/?spm=a230r.7195193.1997079397.190.63156831UMegXH\n",
    "    try:\n",
    "        name=driver.find_element(By.CLASS_NAME,'shop-name').text\n",
    "    #     script_content=driver.find_element(By.CSS_SELECTOR,'#header-content > div.shop-summary.J_TShopSummary > div.summary-popup.J_TSummaryPopup > div.more-info > div.shop-more-info > p:nth-child(4) > a')\n",
    "    #     script_content=script_content.get_attribute('href')\n",
    "        sellerid=get_id(driver)\n",
    "        print(sellerid)\n",
    "        stars=driver.find_element(By.CSS_SELECTOR,'#header-content > div.shop-summary.J_TShopSummary > div.shop-name > div.shop-rank-wrap > span > a')\n",
    "        star=len(stars.find_elements(By.TAG_NAME,'i'))\n",
    "        fan=np.nan\n",
    "        label=np.nan\n",
    "        #点击标题显示店铺评分数据\n",
    "        driver.find_element(By.CLASS_NAME,'shop-service-info').click()\n",
    "        wait = WebDriverWait(driver, 10)\n",
    "        scores = wait.until(EC.visibility_of_all_elements_located((By.CLASS_NAME,'count')))\n",
    "        zh=np.nan\n",
    "        bb=scores[0].text\n",
    "        wl=scores[1].text\n",
    "        fw=scores[2].text\n",
    "    #     target_element  = driver.find_element(By.XPATH,'//*[@id=\"header-content\"]/div[position()=2]/div/div/div[position()=1]/div[position()=1]/div/div/ul/li[position()=2]')\n",
    "    #     actions = ActionChains(driver)\n",
    "    #     actions.move_to_element(target_element)\n",
    "    #     actions.perform()\n",
    "        gauratee=driver.find_element(By.CLASS_NAME,'tb-seller-bail').text\n",
    "        gauratee=gauratee.replace('元','')\n",
    "        # 将qualify变量的值追加到qualifies列表中\n",
    "        qualify=driver.find_element(By.XPATH,'//*[@id=\"header-content\"]/div[position()=2]/div[position()=3]/div[position()=2]/div[position()=1]/p[position()=4]').text\n",
    "        qualify_link=driver.find_element(By.XPATH,'//*[@id=\"header-content\"]/div[position()=2]/div[position()=3]/div[position()=2]/div[position()=1]/p[position()=4]/a').get_attribute('href')\n",
    "        qualify=qualify+qualify_link\n",
    "    #     # 获取goods和prices列表\n",
    "    #     driver.execute_script(\"window.scrollTo(0, document.body.scrollHeight);\")\n",
    "    #     goods_list=driver.find_element(By.CLASS_NAME,'container--JVhREvQT')\n",
    "        goods=np.nan   \n",
    "    #     prices = driver.find_elements(By.CLASS_NAME,'price--WtT08bds')\n",
    "    #     prices = [int(item.text.replace('¥','')) for item in prices]\n",
    "\n",
    "    #     # 获取customers列表，并处理文本\n",
    "    #     customers = driver.find_elements(By.CLASS_NAME,'count--nrEC6YGF')\n",
    "    #     customers = [int(item.text.replace('+人付款', '')) if '+' in item.text else int(item.text.replace('人付款', '')) for item in customers]\n",
    "        sales=np.nan\n",
    "        web_type='ifashion'\n",
    "        return [name,link,sellerid,web_type,star,fan,label,zh,bb,wl,fw,gauratee,qualify,goods,sales]\n",
    "    except TimeoutException:ifashion(driver)"
   ]
  },
  {
   "cell_type": "raw",
   "id": "15aa9e8c",
   "metadata": {},
   "source": [
    "driver.get('https://shop35999051.taobao.com/?spm=a230r.7195193.1997079397.190.63156831UMegXH')\n",
    "ifashion(driver)"
   ]
  },
  {
   "cell_type": "markdown",
   "id": "9597e19a",
   "metadata": {},
   "source": [
    "### tmall"
   ]
  },
  {
   "cell_type": "code",
   "execution_count": null,
   "id": "a987620c",
   "metadata": {},
   "outputs": [],
   "source": [
    "def tmall(driver):\n",
    "    try:\n",
    "        name=driver.find_element(By.CLASS_NAME,'slogo-shopname').text\n",
    "    #     script_content=driver.find_element(By.CSS_SELECTOR,'#dsr-userid').get_attribute('value')\n",
    "    #     seller_id = re.search(r'\"sellerId\":\"([^\"]+)\"', script_content)\n",
    "        seller_id=get_id(driver)\n",
    "        print(seller_id)\n",
    "        label=driver.find_element(By.XPATH,'//*[@id=\"shopExtra\"]/div[position()=1]/div').text\n",
    "        driver.find_element(By.XPATH,'//*[@id=\"shop-info\"]/div[position()=2]/div[position()=1]/div[position()=1]').click()\n",
    "        star=np.nan\n",
    "        fan=np.nan\n",
    "        driver.find_element(By.ID,'shop-info').click()\n",
    "        wait = WebDriverWait(driver, 10)\n",
    "        extra_info = wait.until(EC.visibility_of_element_located((By.CLASS_NAME,'extra-info')))\n",
    "        scores = extra_info.find_elements(By.CLASS_NAME,'count')\n",
    "        zh=np.nan\n",
    "        bb=scores[0].text\n",
    "        wl=scores[1].text\n",
    "        fw=scores[2].text\n",
    "        right=extra_info.find_elements(By.CLASS_NAME,'right')\n",
    "        gauratee=right[0].find_element(By.XPATH,'a').get_attribute('href')\n",
    "         # 将qualify变量的值追加到qualifies列表中\n",
    "        qualify=driver.find_element(By.CLASS_NAME,'tm-gsLink').get_attribute('href')\n",
    "    # #     # 获取goods和prices列表\n",
    "    # #     driver.execute_script(\"window.scrollTo(0, document.body.scrollHeight);\")\n",
    "    # #     goods_list=driver.find_element(By.CLASS_NAME,'container--JVhREvQT')\n",
    "        goods=np.nan   \n",
    "    # #     prices = driver.find_elements(By.CLASS_NAME,'price--WtT08bds')\n",
    "    # #     prices = [int(item.text.replace('¥','')) for item in prices]\n",
    "\n",
    "    # #     # 获取customers列表，并处理文本\n",
    "    # #     customers = driver.find_elements(By.CLASS_NAME,'count--nrEC6YGF')\n",
    "    # #     customers = [int(item.text.replace('+人付款', '')) if '+' in item.text else int(item.text.replace('人付款', '')) for item in customers]\n",
    "        sales=np.nan\n",
    "        web_type='tmall'\n",
    "        return [name,link,seller_id,web_type,star,fan,label,zh,bb,wl,fw,gauratee,qualify,goods,sales]\n",
    "    except TimeoutException:tmall(driver)"
   ]
  },
  {
   "cell_type": "raw",
   "id": "bbe3d8df",
   "metadata": {},
   "source": [
    "driver.get('https://shop194216065.taobao.com/')\n",
    "tmall(driver)"
   ]
  },
  {
   "cell_type": "markdown",
   "id": "d32e4f30",
   "metadata": {},
   "source": [
    "### 天猫"
   ]
  },
  {
   "cell_type": "code",
   "execution_count": null,
   "id": "9e5a8fc8",
   "metadata": {},
   "outputs": [],
   "source": [
    "def tianmao(driver):\n",
    "    try:\n",
    "        name=driver.find_element(By.CLASS_NAME,'shopName--qijIco3R').text\n",
    "        seller_id=get_id(driver)\n",
    "        print(seller_id)\n",
    "        label=np.nan\n",
    "        star=driver.find_element(By.CLASS_NAME,'rankImageUrl--pFLTZYUc').get_attribute('src')\n",
    "        fan=driver.find_element(By.CLASS_NAME,'fans--hensgUT0').text\n",
    "        scores=driver.find_elements(By.CLASS_NAME,'count--lv0JlsoC')\n",
    "        zh=scores[0].text\n",
    "        bb=scores[1].text\n",
    "        wl=scores[2].text\n",
    "        fw=scores[3].text\n",
    "        gauratee=np.nan\n",
    "        driver.find_element(By.CLASS_NAME,'pannerContainer--Fw4sNwIa').click()\n",
    "        wait = WebDriverWait(driver, 10)\n",
    "        extra_info = wait.until(EC.visibility_of_element_located((By.CLASS_NAME,'hover--v5KLIq_Y')))\n",
    "        qualify=driver.find_element(By.CLASS_NAME,'textAptitude--Z_0T8HGE').text\n",
    "        goods=np.nan   \n",
    "        sales=np.nan\n",
    "        web_type='天猫'\n",
    "        return  [name,link,seller_id,web_type,star,fan,label,zh,bb,wl,fw,gauratee,qualify,goods,sales]\n",
    "    except TimeoutException:tianmao(driver)"
   ]
  },
  {
   "cell_type": "markdown",
   "id": "0a3de1c7",
   "metadata": {},
   "source": [
    "### main"
   ]
  },
  {
   "cell_type": "code",
   "execution_count": null,
   "id": "a9c631ba",
   "metadata": {
    "scrolled": true
   },
   "outputs": [],
   "source": [
    "result=[]\n",
    "error_link=[]\n",
    "for index,link in enumerate(links[1:60]):\n",
    "    print(f'当前链接为：{link}')\n",
    "    if index %5==0:\n",
    "        print('--------------sleeping-----------')\n",
    "        sleep(5)\n",
    "    if 'http' in link:\n",
    "        driver.get(link)\n",
    "        try:\n",
    "            ##先判断是不是tmall店铺\n",
    "            logo=driver.find_element(By.CSS_SELECTOR,'#mallLogo > span > a').get_attribute('href')\n",
    "            print(link,logo,'tmall')\n",
    "            result.append(tmall(driver))\n",
    "        except NoSuchElementException:\n",
    "            try:\n",
    "                ##如果不是则判断是不是淘宝店铺或者天猫店铺\n",
    "                logo=driver.find_element(By.CSS_SELECTOR,'#ice-container > div > div > div.container--NJYvhtL4 > img').get_attribute('src')\n",
    "                if logo=='https://img.alicdn.com/imgextra/i1/O1CN01z163bz1lHF5yQ50CC_!!6000000004793-2-tps-172-108.png':\n",
    "                    print(link,logo,'淘宝')\n",
    "                    result.append(taobao(driver))\n",
    "                elif logo=='https://img.alicdn.com/imgextra/i2/O1CN01a69z6z1hJklCkBqOU_!!6000000004257-2-tps-174-106.png':\n",
    "                    print(link,logo,'天猫')\n",
    "                    result.append(tianmao(driver))\n",
    "            except NoSuchElementException:\n",
    "                try:\n",
    "                ##如果也不是则判断是不是淘宝网店铺\n",
    "                    logo=driver.find_element(By.CSS_SELECTOR,'#header-content > div.logo-search > div.logos > a > img').get_attribute('src')\n",
    "                    print(link,logo,'淘宝网')\n",
    "                    result.append(taobaowang(driver))\n",
    "                except NoSuchElementException:\n",
    "                    ##如果也不是则判断是不是ifashion店铺\n",
    "                    try:\n",
    "                        logo=driver.find_element(By.XPATH,'//*[@id=\"header-content\"]/div[position()=1]/div[position()=1]/a/img').get_attribute('src')\n",
    "                        print(link,logo,'ifashion')\n",
    "                        result.append(ifashion(driver))\n",
    "                    except:\n",
    "                        print(link,'网络结构问题')\n",
    "                        error_link.append(link)\n",
    "        else:\n",
    "            print(link)\n",
    "            result.append([np.nan]*len(result[0]))"
   ]
  },
  {
   "cell_type": "code",
   "execution_count": null,
   "id": "f861e063",
   "metadata": {},
   "outputs": [],
   "source": [
    "for i in error_link:print(i)"
   ]
  },
  {
   "cell_type": "code",
   "execution_count": null,
   "id": "cfaba84d",
   "metadata": {},
   "outputs": [],
   "source": [
    "data=pd.read_excel('C:/Users/HP/Desktop/yto/项目测试路径/yto_riskmanage/data/result/准入结果/20240606152702.xlsx',sheet_name='strategy_result').iloc[:,3:]"
   ]
  },
  {
   "cell_type": "code",
   "execution_count": null,
   "id": "b746933c",
   "metadata": {},
   "outputs": [],
   "source": [
    "data"
   ]
  },
  {
   "cell_type": "code",
   "execution_count": null,
   "id": "009972e9",
   "metadata": {
    "scrolled": true
   },
   "outputs": [],
   "source": [
    "a=pd.DataFrame(result)\n",
    "a.columns=['name','seller_id','web_type','star','fan','label','zh','bb','wl','fw','gauratee','qualify','goods','sales']\n",
    "a.sort_values('web_type')"
   ]
  },
  {
   "cell_type": "code",
   "execution_count": null,
   "id": "758df28d",
   "metadata": {},
   "outputs": [],
   "source": [
    "for i in result:\n",
    "    print(i)\n",
    "    print(len(i))"
   ]
  },
  {
   "cell_type": "code",
   "execution_count": null,
   "id": "b1919f4c",
   "metadata": {
    "collapsed": true
   },
   "outputs": [],
   "source": [
    "for i in links:print(i)"
   ]
  },
  {
   "cell_type": "code",
   "execution_count": null,
   "id": "ae1028dc",
   "metadata": {
    "scrolled": true
   },
   "outputs": [],
   "source": [
    "for index,link in enumerate(links[1:]):\n",
    "    while True:\n",
    "        try:\n",
    "            if data['店铺链接'][index] !='淘宝查无':\n",
    "                get_table(data,index)\n",
    "            break\n",
    "        except NoSuchElementException:\n",
    "            print('error')"
   ]
  },
  {
   "cell_type": "code",
   "execution_count": null,
   "id": "d0cf4165",
   "metadata": {},
   "outputs": [],
   "source": [
    "# driver.get('https://shop269748718.taobao.com')\n",
    "# driver.find_element(By.CSS_SELECTOR,'#mallLogo > span > a').get_attribute('href')\n",
    "\n",
    "# driver.get('https://shop102400418.taobao.com')\n",
    "# driver.find_element(By.XPATH,'//*[@id=\"ice-container\"]/div/div/div[1]/img').get_attribute('src')\n",
    "driver.get('https://shop34970285.taobao.com/')\n",
    "driver.find_element(By.XPATH,'//*[@id=\"header-content\"]/div[1]/div[1]/a/img').get_attribute('src')"
   ]
  },
  {
   "cell_type": "code",
   "execution_count": null,
   "id": "3cc54b8a",
   "metadata": {},
   "outputs": [],
   "source": [
    "script_content=driver.find_element(By.CSS_SELECTOR,'head > script:nth-child(44)').get_attribute('innerHTML')\n",
    "seller_id_match = re.search(r'\"sellerId\":\"([^\"]+)\"', script_content)\n",
    "\n",
    "if seller_id_match:\n",
    "    seller_id = seller_id_match.group(1)\n",
    "    print(f\"提取的sellerId为: {seller_id}\")\n",
    "else:\n",
    "    print(\"未找到sellerId\")\n"
   ]
  },
  {
   "cell_type": "code",
   "execution_count": null,
   "id": "98c7fd93",
   "metadata": {},
   "outputs": [],
   "source": [
    "def get_id(driver):\n",
    "    driver.get(i)\n",
    "    print(i)\n",
    "    WebDriverWait(driver, 10).until(EC.presence_of_element_located((By.TAG_NAME, 'body')))\n",
    "    # 假设source是已经获取的页面源代码\n",
    "    source = driver.page_source\n",
    "    # 正则表达式，用于匹配包含\"CPS.trace\"的<script>标签\n",
    "    pattern = r'<script.*?>\\s*(CPS\\.trace.*?)</script>'\n",
    "    # 使用re.DOTALL使.匹配包括换行符在内的任何字符\n",
    "    script = re.findall(pattern, source, re.DOTALL)[0]\n",
    "    pattern = r'\"sellerid\": (?:\"(\\d+)\"|(\\d+))'\n",
    "    match = re.search(pattern, script)\n",
    "    seller_id = match.group(1) if match.group(1) else match.group(2)\n",
    "    return seller_id"
   ]
  },
  {
   "cell_type": "code",
   "execution_count": null,
   "id": "5dea44b6",
   "metadata": {},
   "outputs": [],
   "source": [
    "for i in links:\n",
    "    if 'http' in i:\n",
    "        driver.get(i)\n",
    "        print(get_id(driver))"
   ]
  },
  {
   "cell_type": "code",
   "execution_count": null,
   "id": "593d5492",
   "metadata": {},
   "outputs": [],
   "source": [
    "driver.get(links[0])\n",
    "source = driver.page_source\n",
    "source = driver.page_source\n",
    "# 正则表达式，用于匹配包含\"CPS.trace\"的<script>标签\n",
    "pattern = r'<script.*?>\\s*(CPS\\.trace.*?)</script>'\n",
    "script = re.findall(pattern, source, re.DOTALL)[0]\n",
    "script"
   ]
  },
  {
   "cell_type": "code",
   "execution_count": null,
   "id": "9700a38e",
   "metadata": {},
   "outputs": [],
   "source": [
    "pattern = r'\"sellerid\": (\\d+)'\n",
    "sellerid=re.search(pattern, script)\n",
    "sellerid"
   ]
  },
  {
   "cell_type": "code",
   "execution_count": null,
   "id": "f478e30c",
   "metadata": {},
   "outputs": [],
   "source": [
    "script"
   ]
  },
  {
   "cell_type": "markdown",
   "id": "25263bd2",
   "metadata": {},
   "source": [
    "## ip_to_physical_address"
   ]
  },
  {
   "cell_type": "code",
   "execution_count": null,
   "id": "dcde2308",
   "metadata": {},
   "outputs": [],
   "source": [
    "import requests\n",
    "\n",
    "def ip_to_physical_address(ip_address):\n",
    "    # 定义API的URL，使用ip-api.com的免费服务\n",
    "    url = f'http://ip-api.com/json/{ip_address}'\n",
    "    \n",
    "    # 发送GET请求\n",
    "    response = requests.get(url)\n",
    "    \n",
    "    # 检查请求是否成功\n",
    "    if response.status_code == 200:\n",
    "        # 解析JSON数据\n",
    "        data = response.json()\n",
    "        # 检查是否成功获取到数据\n",
    "        if data['status'] == 'success':\n",
    "            # 返回物理地址信息\n",
    "            return data['city'], data['regionName'], data['country']\n",
    "        else:\n",
    "            return \"Error:\", data.get('message', 'Unknown error')\n",
    "    else:\n",
    "        return \"HTTP Error:\", response.status_code\n",
    "\n",
    "# 示例：获取IP地址的物理地址\n",
    "ip_address = '61.169.104.210'  # 你可以替换成任何有效的IP地址\n",
    "physical_address = ip_to_physical_address(ip_address)\n",
    "print(physical_address)"
   ]
  },
  {
   "cell_type": "code",
   "execution_count": null,
   "id": "8e65add8",
   "metadata": {},
   "outputs": [],
   "source": [
    "from scapy.all import *\n",
    "from socket import inet_pton, AF_INET6\n",
    "\n",
    "def resolve_ipv6_address(ipv6_address):\n",
    "    # 将IPv6地址转换为网络字节序的二进制格式\n",
    "    try:\n",
    "        ipv6_bin = inet_pton(AF_INET6, ipv6_address)\n",
    "    except socket.error as e:\n",
    "        print(f\"无效的IPv6地址: {ipv6_address}\")\n",
    "        return None\n",
    "\n",
    "    # 创建一个ICMPv6邻居请求（NS）数据包\n",
    "    ns = IPv6(dst=\"ff02::1\") / ICMPv6ND_NS(tgt=ipv6_bin)\n",
    "\n",
    "    # 发送NS数据包并接收邻居通告（NA）\n",
    "    answer, _ = sr(ns, timeout=2, iface=\" 本地连接* 1\", verbose=0)\n",
    "\n",
    "    # 解析响应\n",
    "    for sent, received in answer:\n",
    "        if received.type == ICMPv6ND_NA:\n",
    "            # 检查是否是响应我们请求的邻居通告\n",
    "            if received[ICMPv6NDOptSrcLLAddr] is not None and \\\n",
    "               received[ICMPv6NDOptSrcLLAddr].lladdr == received[IPv6].src:\n",
    "                # 提取MAC地址\n",
    "                mac_address = received[ICMPv6NDOptSrcLLAddr].lladdr\n",
    "                return mac_address\n",
    "    return None\n",
    "\n",
    "# 使用示例\n",
    "ipv6_address = \"2409:8950:29d1:561:17d7:e6e0:a2ba:848a\"  # 替换为你要解析的IPv6地址\n",
    "mac_address = resolve_ipv6_address(ipv6_address)\n",
    "if mac_address:\n",
    "    print(f\"IPv6地址 {ipv6_address} 的物理地址是 {mac_address}\")\n",
    "else:\n",
    "    print(f\"无法解析IPv6地址 {ipv6_address}\")"
   ]
  },
  {
   "cell_type": "code",
   "execution_count": null,
   "id": "50a86297",
   "metadata": {},
   "outputs": [],
   "source": []
  },
  {
   "cell_type": "code",
   "execution_count": null,
   "id": "36d23254",
   "metadata": {},
   "outputs": [],
   "source": []
  },
  {
   "cell_type": "markdown",
   "id": "20651d9f",
   "metadata": {},
   "source": [
    "## 蝉妈妈"
   ]
  },
  {
   "cell_type": "code",
   "execution_count": 7,
   "id": "a1e26efb5350c9",
   "metadata": {
    "ExecuteTime": {
     "end_time": "2024-06-14T07:29:28.451636900Z",
     "start_time": "2024-06-14T07:29:28.426467200Z"
    }
   },
   "outputs": [],
   "source": [
    " def get_shoplinks():\n",
    "    links=[]\n",
    "    pages=driver.find_elements(By.CLASS_NAME,'number')\n",
    "    max_page=pages[-1].text\n",
    "    for number in range(1,int(max_page)):\n",
    "        print(f'当前为第{number}页')\n",
    "        driver.find_element(By.CLASS_NAME,'btn-next').click()\n",
    "        wait=WebDriverWait(driver,10)\n",
    "        wait.until(EC.presence_of_element_located((By.XPATH,'//*[@id=\"app\"]/div[1]/div[2]/div/div/div/div[2]/div[2]/div[1]/div/div/table')))\n",
    "        shop_list=driver.find_elements(By.XPATH,'//*[@id=\"app\"]/div[1]/div[2]/div/div/div/div[2]/div[2]/div[1]/div/div/table/tbody/tr')\n",
    "        for i in range(len(shop_list)):\n",
    "            a=shop_list[i].find_element(By.XPATH,'td[1]/div/div[2]/div/div[1]/a')\n",
    "            links.append(a.get_attribute('href'))\n",
    "    return links"
   ]
  },
  {
   "cell_type": "code",
   "execution_count": 8,
   "id": "87a83c341616e711",
   "metadata": {
    "ExecuteTime": {
     "end_time": "2024-06-14T07:29:30.955435700Z",
     "start_time": "2024-06-14T07:29:30.931962800Z"
    }
   },
   "outputs": [],
   "source": [
    "def get_base_info(driver):\n",
    "    head=driver.find_element(By.XPATH,'//*[@id=\"app\"]/div[position()=1]/div[position()=3]/div[position()=1]/div/div[position()=1]/div[position()=2]')\n",
    "    name=head.find_element(By.XPATH,'div[position()=1]/div[position()=1]/div[position()=1]/div[position()=1]').text\n",
    "    major_class=head.find_element(By.XPATH,'div[position()=2]/div/div[position()=1]/div/div[position()=2]').text.replace('\\n',':')\n",
    "    sell_strategy=head.find_element(By.XPATH,'div[position()=2]/div/div[position()=2]/div[position()=2]').text.replace('\\n',';')\n",
    "    price_distribute=head.find_element(By.XPATH,'div[position()=2]/div/div[position()=3]/div[position()=2]').text\n",
    "    try:\n",
    "        major_customer=head.find_element(By.XPATH,'div[position()=2]/div/div[position()=4]').text.replace('\\n',';').replace('主要受众;','')\n",
    "    except:major_customer=np.nan\n",
    "    rank=head.find_element(By.XPATH,'//*[@id=\"app\"]/div[position()=1]/div[position()=3]/div[position()=1]/div/div[position()=2]/div/div[position()=6]').text.replace('\\n',';')\n",
    "    return [name,major_class,sell_strategy,price_distribute,major_customer,rank]"
   ]
  },
  {
   "cell_type": "code",
   "execution_count": 9,
   "id": "b00b4a2d23b00f39",
   "metadata": {
    "ExecuteTime": {
     "end_time": "2024-06-14T07:29:31.679350200Z",
     "start_time": "2024-06-14T07:29:31.657500900Z"
    }
   },
   "outputs": [],
   "source": [
    "def get_base_analysis(driver):\n",
    "    wait=WebDriverWait(driver,10)\n",
    "    wait.until(EC.visibility_of_element_located((By.XPATH,'//*[@id=\"app\"]/div[1]/div[3]/div[2]/div[2]/div/div/div[1]/div[1]/div[1]/span[2]')))\n",
    "    period=driver.find_element(By.XPATH,'//*[@id=\"app\"]/div[1]/div[3]/div[2]/div[2]/div/div/div[1]/div[1]/div[1]/span[2]').text\n",
    "    overview_data=driver.find_element(By.XPATH,'//*[@id=\"app\"]/div[1]/div[3]/div[2]/div[2]/div/div/div[1]/div[3]/div[1]/div')\n",
    "    sales=overview_data.find_element(By.XPATH,'div[1]/div[1]/div[1]/span|div[1]/div[1]/div[1]/div').text    \n",
    "    sales_amount=overview_data.find_element(By.XPATH,'div[1]/div[2]/div[1]/span|div[1]/div[2]/div[1]/div').text\n",
    "    average_price=overview_data.find_element(By.XPATH,'div[1]/div[3]/div[1]/span').text\n",
    "    SPU=overview_data.find_element(By.XPATH,'div[1]/div[4]/div[1]/span').text\n",
    "    SKU=overview_data.find_element(By.XPATH,'div[1]/div[5]/div[1]/span').text\n",
    "    relative_KOL=overview_data.find_element(By.XPATH,'div[2]/div[1]/div[1]/span').text\n",
    "    relative_shop=overview_data.find_element(By.XPATH,'div[2]/div[2]/div[1]/span').text\n",
    "    relative_show=overview_data.find_element(By.XPATH,'div[2]/div[3]/div[1]/span').text\n",
    "    relative_video=overview_data.find_element(By.XPATH,'div[2]/div[4]/div[1]/span').text\n",
    "    return [period,sales,sales_amount,average_price,SPU,SKU,relative_KOL,relative_shop,relative_show,relative_video]"
   ]
  },
  {
   "cell_type": "code",
   "execution_count": 10,
   "id": "b0af15b995193c4a",
   "metadata": {
    "ExecuteTime": {
     "end_time": "2024-06-14T07:29:32.323581700Z",
     "start_time": "2024-06-14T07:29:32.289567200Z"
    }
   },
   "outputs": [],
   "source": [
    "def get_sales_method(driver):\n",
    "    wait=WebDriverWait(driver,10)\n",
    "    wait.until(EC.visibility_of_element_located((By.XPATH,'//*[@id=\"app\"]/div[position()=1]/div[position()=3]/div[position()=2]/div[position()=2]/div/div/div[position()=1]/div[position()=3]/div[position()=2]/div[position()=1]/div[position()=1]/div[position()=2]/div[position()=2]/div/div/div[position()=1]/table/tbody')))   \n",
    "    sales_method=driver.find_element(By.XPATH,'//*[@id=\"app\"]/div[position()=1]/div[position()=3]/div[position()=2]/div[position()=2]/div/div/div[position()=1]/div[position()=3]/div[position()=2]/div[position()=1]/div[position()=1]/div[position()=2]/div[position()=2]/div/div/div[position()=1]/table/tbody')\n",
    "    show_ratio=sales_method.find_element(By.XPATH,'tr[position()=1]/td[position()=2]/div/div').text\n",
    "    show_sales=sales_method.find_element(By.XPATH,'tr[position()=1]/td[position()=3]/div/span|tr[position()=1]/td[position()=3]/div/div').text\n",
    "    video_ratio=sales_method.find_element(By.XPATH,'tr[position()=2]/td[position()=2]/div/div').text\n",
    "    video_sales=sales_method.find_element(By.XPATH,'tr[position()=2]/td[position()=3]/div/span|tr[position()=2]/td[position()=3]/div/div').text\n",
    "    card_ratio=sales_method.find_element(By.XPATH,'tr[position()=3]/td[position()=2]/div/div').text\n",
    "    card_sales=sales_method.find_element(By.XPATH,'tr[position()=3]/td[position()=3]/div/span|tr[position()=3]/td[position()=3]/div/div').text\n",
    "    return [show_ratio,show_sales,video_ratio,video_sales,card_ratio,card_sales]"
   ]
  },
  {
   "cell_type": "code",
   "execution_count": 11,
   "id": "458e7643ebd23dc2",
   "metadata": {
    "ExecuteTime": {
     "end_time": "2024-06-14T07:29:32.998498Z",
     "start_time": "2024-06-14T07:29:32.979948200Z"
    }
   },
   "outputs": [],
   "source": [
    "def get_sales_channel(driver):\n",
    "    wait=WebDriverWait(driver,10)\n",
    "    wait.until(EC.visibility_of_element_located((By.XPATH,'//*[@id=\"app\"]/div[position()=1]/div[position()=3]/div[position()=2]/div[position()=2]/div/div/div[position()=1]/div[position()=3]/div[position()=2]/div[position()=1]/div[position()=2]/div[position()=2]/div[position()=2]/div/div/div[position()=1]/table/tbody')))   \n",
    "    sales_channel = driver.find_element(By.XPATH,\n",
    "                                       '//*[@id=\"app\"]/div[position()=1]/div[position()=3]/div[position()=2]/div[position()=2]/div/div/div[position()=1]/div[position()=3]/div[position()=2]/div[position()=1]/div[position()=2]/div[position()=2]/div[position()=2]/div/div/div[position()=1]/table/tbody')\n",
    "    KOL_ratio = sales_channel.find_element(By.XPATH, 'tr[position()=1]/td[position()=2]/div/div').text\n",
    "    KOL_sales = sales_channel.find_element(By.XPATH, 'tr[position()=1]/td[position()=3]/div/span|tr[position()=1]/td[position()=3]/div/div').text\n",
    "    shop_ratio = sales_channel.find_element(By.XPATH, 'tr[position()=2]/td[position()=2]/div/div').text\n",
    "    shop_sales = sales_channel.find_element(By.XPATH, 'tr[position()=2]/td[position()=3]/div/span|tr[position()=1]/td[position()=3]/div/div').text\n",
    "    brand_ratio = sales_channel.find_element(By.XPATH, 'tr[position()=3]/td[position()=2]/div/div').text\n",
    "    brand_sales = sales_channel.find_element(By.XPATH, 'tr[position()=3]/td[position()=3]/div/span|tr[position()=1]/td[position()=3]/div/div').text\n",
    "    return [KOL_ratio,KOL_sales,shop_ratio,shop_sales,brand_ratio,brand_sales]"
   ]
  },
  {
   "cell_type": "code",
   "execution_count": 12,
   "id": "474affe4f97f07b2",
   "metadata": {
    "ExecuteTime": {
     "end_time": "2024-06-14T07:36:20.381615800Z",
     "start_time": "2024-06-14T07:36:20.350495Z"
    }
   },
   "outputs": [],
   "source": [
    " def get_shop_data(driver):\n",
    "    base_analysis=[]\n",
    "#     begin=time.time()\n",
    "    wait=WebDriverWait(driver,20)\n",
    "    wait.until(EC.visibility_of_element_located((By.XPATH,'//*[@id=\"app\"]/div[position()=1]/div[position()=3]/div[position()=2]/div[position()=2]/div/div/div[position()=1]/div[position()=1]/div[position()=2]')))\n",
    "    base_analysis=get_base_info(driver)\n",
    "    period=driver.find_element(By.XPATH,'//*[@id=\"app\"]/div[position()=1]/div[position()=3]/div[position()=2]/div[position()=2]/div/div/div[position()=1]/div[position()=1]/div[position()=2]')\n",
    "    for i in range(1,7):\n",
    "        if i<=4:\n",
    "#             print(i)\n",
    "            period.find_element(By.XPATH,f'div/div/div[position()=1]/div/label[position()={i}]/span').click()\n",
    "            sleep(1)\n",
    "            base_analysis.extend(get_base_analysis(driver))\n",
    "            base_analysis.extend(get_sales_method(driver))\n",
    "            base_analysis.extend(get_sales_channel(driver))\n",
    "        elif i==5:\n",
    "            # 等待下拉菜单项加载并可见\n",
    "            for j in range(1,9):\n",
    "#                 print(i,j)\n",
    "                period.find_element(By.XPATH,'div/div/div[position()=1]/div/label[position()=5]/span').click()\n",
    "                submenu_items = WebDriverWait(driver, 20).until(EC.visibility_of_any_elements_located(\n",
    "                (By.XPATH,f'/html/body/div[3]/ul/div/div/div[{j}]/div[1]/span|/html/body/div[4]/ul/div/div/div[{j}]/div[1]/span'))\n",
    "                )\n",
    "                driver.find_element(By.XPATH, f'/html/body/div[3]/ul/div/div/div[{j}]/div[1]/span|/html/body/div[4]/ul/div/div/div[{j}]/div[1]/span').click()\n",
    "                sleep(1)\n",
    "                base_analysis.extend(get_base_analysis(driver))\n",
    "                base_analysis.extend(get_sales_method(driver))\n",
    "                base_analysis.extend(get_sales_channel(driver))\n",
    "        elif i==6:\n",
    "            for j in range(1,9):\n",
    "#                 print(i,j)\n",
    "                period.find_element(By.XPATH,'div/div/div[position()=1]/div/label[position()=6]/span').click()\n",
    "                submenu_items = WebDriverWait(driver, 20).until(EC.visibility_of_any_elements_located(\n",
    "                    (By.XPATH,f'/html/body/div[4]/ul/div/div[2]/div[{j}]/div[1]/span|/html/body/div[8]/ul/div/div[2]/div[{j}]/div[1]/span')))\n",
    "                driver.find_element(By.XPATH, f'/html/body/div[4]/ul/div/div[2]/div[{j}]/div[1]/span|/html/body/div[8]/ul/div/div[2]/div[{j}]/div[1]/span').click()\n",
    "                sleep(1)\n",
    "                base_analysis.extend(get_base_analysis(driver))\n",
    "                base_analysis.extend(get_sales_method(driver))\n",
    "                base_analysis.extend(get_sales_channel(driver))\n",
    "    return base_analysis\n",
    "#     end=time.time()\n",
    "    print('此次运行用时：',end-begin,'秒')  "
   ]
  },
  {
   "cell_type": "code",
   "execution_count": 110,
   "id": "023f68a8",
   "metadata": {
    "ExecuteTime": {
     "end_time": "2024-06-14T07:29:43.256008500Z",
     "start_time": "2024-06-14T07:29:38.638463Z"
    }
   },
   "outputs": [],
   "source": [
    "option = webdriver.ChromeOptions()\n",
    "option.add_experimental_option(\"detach\", True)\n",
    "option.add_argument(\"user-agent=Mozilla/5.0 (Windows NT 10.0; Win64; x64) AppleWebKit/537.36 (KHTML, like Gecko) Chrome/125.0.0.0 Safari/537.36\")\n",
    "driver = webdriver.Chrome(options=option)\n",
    "driver.get('https://www.chanmama.com/register.html')"
   ]
  },
  {
   "cell_type": "code",
   "execution_count": 111,
   "id": "3173fd7605d8d704",
   "metadata": {
    "ExecuteTime": {
     "end_time": "2024-06-14T07:29:43.298258100Z",
     "start_time": "2024-06-14T07:29:43.257303600Z"
    }
   },
   "outputs": [],
   "source": [
    "driver.find_element(By.XPATH,'//*[@id=\"app\"]/div[1]/div/div[1]/div/div[2]/div/div[2]/div[2]/div/div/div[2]/div/ul/li[1]').click()"
   ]
  },
  {
   "cell_type": "code",
   "execution_count": 112,
   "id": "1a510497e6b743b9",
   "metadata": {
    "ExecuteTime": {
     "end_time": "2024-06-14T07:29:46.179168100Z",
     "start_time": "2024-06-14T07:29:46.028434Z"
    }
   },
   "outputs": [],
   "source": [
    "driver.find_element(By.CLASS_NAME,'el-input__inner').send_keys('18101882676')   \n",
    "driver.find_elements(By.CLASS_NAME,'el-input__inner')[1].send_keys('123456')\n",
    "driver.find_element(By.ID,'e2e-login-submit').click()"
   ]
  },
  {
   "cell_type": "code",
   "execution_count": 91,
   "id": "a066c523c046eca1",
   "metadata": {
    "ExecuteTime": {
     "end_time": "2024-06-14T06:53:17.474898100Z",
     "start_time": "2024-06-14T06:53:16.923813400Z"
    }
   },
   "outputs": [],
   "source": [
    "driver.get('https://www.chanmama.com/brandRank/?keyword=&category_id=8')"
   ]
  },
  {
   "cell_type": "code",
   "execution_count": 96,
   "id": "efef78bd",
   "metadata": {
    "scrolled": true
   },
   "outputs": [],
   "source": [
    "# links=get_shoplinks()\n",
    "links=pd.read_excel('C:/Users/HP/Desktop/yto/项目测试路径/eloan_crawler/data/店铺链接.xlsx')\n",
    "links=links[links['是否获取'].isna()]['链接']"
   ]
  },
  {
   "cell_type": "code",
   "execution_count": 113,
   "id": "17e33647029794e8",
   "metadata": {
    "ExecuteTime": {
     "start_time": "2024-06-14T07:36:20.554667600Z"
    },
    "is_executing": true,
    "scrolled": true
   },
   "outputs": [
    {
     "name": "stdout",
     "output_type": "stream",
     "text": [
      "1\n",
      "https://www.chanmama.com/promotionBrandDetail/0809653191345 爬取失败\n",
      "2\n",
      "https://www.chanmama.com/promotionBrandDetail/0726972257386 爬取成功\n",
      "3\n",
      "https://www.chanmama.com/promotionBrandDetail/0794117072914 爬取成功\n",
      "4\n",
      "https://www.chanmama.com/promotionBrandDetail/0694853448982 爬取成功\n",
      "5\n",
      "https://www.chanmama.com/promotionBrandDetail/0477248974315 爬取成功\n",
      "6\n",
      "https://www.chanmama.com/promotionBrandDetail/0748600897406 爬取成功\n",
      "7\n",
      "https://www.chanmama.com/promotionBrandDetail/0400882439373 爬取成功\n",
      "8\n",
      "https://www.chanmama.com/promotionBrandDetail/0911797453652 爬取成功\n",
      "9\n",
      "https://www.chanmama.com/promotionBrandDetail/0088340630401 爬取成功\n",
      "10\n",
      "https://www.chanmama.com/promotionBrandDetail/0515671421143 爬取成功\n",
      "11\n",
      "https://www.chanmama.com/promotionBrandDetail/0335920945259 爬取成功\n",
      "12\n",
      "https://www.chanmama.com/promotionBrandDetail/0870796668792 爬取成功\n",
      "13\n",
      "https://www.chanmama.com/promotionBrandDetail/0616916083128 爬取成功\n",
      "14\n",
      "https://www.chanmama.com/promotionBrandDetail/0661038397299 爬取成功\n",
      "15\n",
      "https://www.chanmama.com/promotionBrandDetail/0419472528674 爬取成功\n",
      "16\n",
      "https://www.chanmama.com/promotionBrandDetail/0820781098555 爬取成功\n",
      "17\n",
      "https://www.chanmama.com/promotionBrandDetail/0745666561960 爬取成功\n",
      "18\n",
      "https://www.chanmama.com/promotionBrandDetail/0391053645341 爬取成功\n",
      "19\n",
      "https://www.chanmama.com/promotionBrandDetail/0794677734994 爬取成功\n",
      "20\n",
      "https://www.chanmama.com/promotionBrandDetail/0250490367046 爬取成功\n",
      "21\n",
      "https://www.chanmama.com/promotionBrandDetail/0129227400294 爬取成功\n",
      "22\n",
      "https://www.chanmama.com/promotionBrandDetail/0159134339294 爬取成功\n",
      "23\n",
      "https://www.chanmama.com/promotionBrandDetail/0149904488669 爬取成功\n",
      "24\n",
      "https://www.chanmama.com/promotionBrandDetail/0164468043498 爬取成功\n",
      "25\n",
      "https://www.chanmama.com/promotionBrandDetail/0785521463769 爬取成功\n",
      "26\n",
      "https://www.chanmama.com/promotionBrandDetail/0572232850115 爬取成功\n",
      "27\n",
      "https://www.chanmama.com/promotionBrandDetail/0686637625903 爬取成功\n",
      "28\n",
      "https://www.chanmama.com/promotionBrandDetail/0360936966244 爬取成功\n",
      "29\n",
      "https://www.chanmama.com/promotionBrandDetail/0914759419675 爬取成功\n",
      "30\n",
      "https://www.chanmama.com/promotionBrandDetail/0246435256164 爬取成功\n",
      "31\n",
      "https://www.chanmama.com/promotionBrandDetail/0548066367113 爬取成功\n",
      "32\n",
      "https://www.chanmama.com/promotionBrandDetail/0638951767943 爬取成功\n",
      "33\n",
      "https://www.chanmama.com/promotionBrandDetail/0269038131578 爬取成功\n",
      "34\n",
      "https://www.chanmama.com/promotionBrandDetail/0291394526149 爬取成功\n",
      "35\n",
      "https://www.chanmama.com/promotionBrandDetail/0471374842273 爬取成功\n",
      "36\n",
      "https://www.chanmama.com/promotionBrandDetail/0713315614150 爬取成功\n",
      "37\n",
      "https://www.chanmama.com/promotionBrandDetail/0998909922880 爬取成功\n",
      "38\n",
      "https://www.chanmama.com/promotionBrandDetail/0236739981464 爬取成功\n",
      "39\n",
      "https://www.chanmama.com/promotionBrandDetail/0356872650631 爬取成功\n",
      "40\n",
      "https://www.chanmama.com/promotionBrandDetail/0907154281324 爬取成功\n",
      "41\n",
      "https://www.chanmama.com/promotionBrandDetail/0308875106903 爬取成功\n",
      "42\n",
      "https://www.chanmama.com/promotionBrandDetail/0018131851784 爬取成功\n",
      "43\n",
      "https://www.chanmama.com/promotionBrandDetail/0770200174282 爬取成功\n",
      "44\n",
      "https://www.chanmama.com/promotionBrandDetail/0580992281048 爬取成功\n",
      "45\n",
      "https://www.chanmama.com/promotionBrandDetail/0471957816865 爬取成功\n",
      "46\n",
      "https://www.chanmama.com/promotionBrandDetail/0142692397053 爬取成功\n",
      "47\n",
      "https://www.chanmama.com/promotionBrandDetail/0936328381056 爬取成功\n",
      "48\n",
      "https://www.chanmama.com/promotionBrandDetail/0463088014723 爬取成功\n",
      "49\n",
      "https://www.chanmama.com/promotionBrandDetail/0905342749340 爬取成功\n",
      "50\n",
      "https://www.chanmama.com/promotionBrandDetail/0407043119898 爬取成功\n",
      "51\n",
      "https://www.chanmama.com/promotionBrandDetail/0642857881373 爬取成功\n",
      "52\n",
      "https://www.chanmama.com/promotionBrandDetail/0044682663800 爬取成功\n",
      "53\n",
      "https://www.chanmama.com/promotionBrandDetail/0560030014679 爬取成功\n",
      "54\n",
      "https://www.chanmama.com/promotionBrandDetail/0585217835203 爬取成功\n",
      "55\n",
      "https://www.chanmama.com/promotionBrandDetail/0738620663860 爬取失败\n",
      "56\n",
      "https://www.chanmama.com/promotionBrandDetail/0489867296807 爬取失败\n",
      "57\n",
      "https://www.chanmama.com/promotionBrandDetail/0435737409167 爬取失败\n",
      "58\n",
      "https://www.chanmama.com/promotionBrandDetail/0388670925497 爬取失败\n",
      "59\n",
      "https://www.chanmama.com/promotionBrandDetail/0307945692266 爬取失败\n",
      "60\n",
      "https://www.chanmama.com/promotionBrandDetail/0462119326275 爬取失败\n",
      "61\n",
      "https://www.chanmama.com/promotionBrandDetail/0525941434091 爬取失败\n",
      "62\n",
      "https://www.chanmama.com/promotionBrandDetail/0943629546249 爬取失败\n",
      "63\n",
      "https://www.chanmama.com/promotionBrandDetail/0052340220821 爬取失败\n",
      "64\n",
      "https://www.chanmama.com/promotionBrandDetail/0966471362946 爬取失败\n",
      "65\n",
      "https://www.chanmama.com/promotionBrandDetail/0833540401003 爬取失败\n",
      "66\n",
      "https://www.chanmama.com/promotionBrandDetail/0714183765705 爬取失败\n",
      "67\n",
      "https://www.chanmama.com/promotionBrandDetail/0614028050867 爬取失败\n",
      "68\n",
      "https://www.chanmama.com/promotionBrandDetail/0797685075287 爬取失败\n",
      "69\n",
      "https://www.chanmama.com/promotionBrandDetail/0772052545038 爬取失败\n",
      "70\n",
      "https://www.chanmama.com/promotionBrandDetail/0640125041742 爬取失败\n",
      "71\n",
      "https://www.chanmama.com/promotionBrandDetail/0731653009496 爬取失败\n",
      "72\n",
      "https://www.chanmama.com/promotionBrandDetail/0331689621088 爬取失败\n",
      "73\n",
      "https://www.chanmama.com/promotionBrandDetail/0493013213326 爬取失败\n",
      "74\n",
      "https://www.chanmama.com/promotionBrandDetail/0645525630133 爬取失败\n",
      "75\n",
      "https://www.chanmama.com/promotionBrandDetail/0705439504738 爬取失败\n",
      "76\n",
      "https://www.chanmama.com/promotionBrandDetail/0070339428072 爬取失败\n",
      "77\n",
      "https://www.chanmama.com/promotionBrandDetail/0426336855393 爬取失败\n",
      "78\n",
      "https://www.chanmama.com/promotionBrandDetail/0972445798529 爬取失败\n",
      "79\n",
      "https://www.chanmama.com/promotionBrandDetail/0965259333303 爬取失败\n",
      "80\n",
      "https://www.chanmama.com/promotionBrandDetail/0986928571089 爬取失败\n",
      "81\n",
      "https://www.chanmama.com/promotionBrandDetail/0926324144492 爬取失败\n",
      "82\n",
      "https://www.chanmama.com/promotionBrandDetail/0030503147111 爬取失败\n",
      "83\n",
      "https://www.chanmama.com/promotionBrandDetail/0756159976951 爬取失败\n",
      "84\n",
      "https://www.chanmama.com/promotionBrandDetail/0368604111255 爬取失败\n",
      "85\n",
      "https://www.chanmama.com/promotionBrandDetail/0429182746481 爬取失败\n",
      "86\n",
      "https://www.chanmama.com/promotionBrandDetail/0902943169581 爬取失败\n",
      "87\n",
      "https://www.chanmama.com/promotionBrandDetail/0696195744515 爬取失败\n",
      "88\n",
      "https://www.chanmama.com/promotionBrandDetail/0360063258348 爬取失败\n",
      "89\n",
      "https://www.chanmama.com/promotionBrandDetail/0461993103298 爬取失败\n",
      "90\n",
      "https://www.chanmama.com/promotionBrandDetail/0269727671680 爬取失败\n",
      "91\n",
      "https://www.chanmama.com/promotionBrandDetail/0958529383642 爬取失败\n",
      "92\n",
      "https://www.chanmama.com/promotionBrandDetail/0331089096572 爬取失败\n",
      "93\n",
      "https://www.chanmama.com/promotionBrandDetail/0195710106313 爬取失败\n",
      "94\n",
      "https://www.chanmama.com/promotionBrandDetail/0066887096630 爬取失败\n",
      "95\n",
      "https://www.chanmama.com/promotionBrandDetail/0899967750643 爬取失败\n",
      "96\n",
      "https://www.chanmama.com/promotionBrandDetail/0473179469688 爬取失败\n",
      "97\n",
      "https://www.chanmama.com/promotionBrandDetail/0697407859078 爬取失败\n",
      "98\n",
      "https://www.chanmama.com/promotionBrandDetail/0067927871631 爬取失败\n",
      "99\n",
      "https://www.chanmama.com/promotionBrandDetail/0531109310267 爬取失败\n",
      "100\n",
      "https://www.chanmama.com/promotionBrandDetail/0718435665971 爬取失败\n",
      "101\n",
      "https://www.chanmama.com/promotionBrandDetail/0386386450657 爬取失败\n",
      "102\n",
      "https://www.chanmama.com/promotionBrandDetail/0626960196637 爬取失败\n",
      "103\n",
      "https://www.chanmama.com/promotionBrandDetail/0508949988478 爬取失败\n",
      "104\n",
      "https://www.chanmama.com/promotionBrandDetail/0231030746304 爬取失败\n",
      "105\n",
      "https://www.chanmama.com/promotionBrandDetail/0445544128629 爬取失败\n",
      "106\n",
      "https://www.chanmama.com/promotionBrandDetail/0739617508556 爬取失败\n",
      "107\n",
      "https://www.chanmama.com/promotionBrandDetail/0261469468173 爬取失败\n",
      "108\n",
      "https://www.chanmama.com/promotionBrandDetail/0905625017129 爬取失败\n",
      "109\n",
      "https://www.chanmama.com/promotionBrandDetail/0889866509473 爬取失败\n",
      "110\n",
      "https://www.chanmama.com/promotionBrandDetail/0680629715335 爬取失败\n",
      "111\n",
      "https://www.chanmama.com/promotionBrandDetail/0689974499565 爬取失败\n",
      "112\n",
      "https://www.chanmama.com/promotionBrandDetail/0754982434177 爬取失败\n",
      "113\n",
      "https://www.chanmama.com/promotionBrandDetail/0674951047390 爬取失败\n",
      "114\n",
      "https://www.chanmama.com/promotionBrandDetail/0825933499709 爬取失败\n",
      "115\n",
      "https://www.chanmama.com/promotionBrandDetail/0477875947106 爬取失败\n",
      "116\n",
      "https://www.chanmama.com/promotionBrandDetail/0980439070202 爬取失败\n",
      "117\n",
      "https://www.chanmama.com/promotionBrandDetail/0515515478910 爬取失败\n",
      "118\n",
      "https://www.chanmama.com/promotionBrandDetail/0059070432491 爬取失败\n",
      "119\n",
      "https://www.chanmama.com/promotionBrandDetail/0942688502834 爬取失败\n",
      "120\n",
      "https://www.chanmama.com/promotionBrandDetail/0929884406779 爬取失败\n",
      "121\n",
      "https://www.chanmama.com/promotionBrandDetail/0734676183095 爬取失败\n",
      "122\n"
     ]
    },
    {
     "name": "stdout",
     "output_type": "stream",
     "text": [
      "https://www.chanmama.com/promotionBrandDetail/0306911166488 爬取失败\n",
      "123\n",
      "https://www.chanmama.com/promotionBrandDetail/0662912263508 爬取失败\n",
      "124\n",
      "https://www.chanmama.com/promotionBrandDetail/0804975090003 爬取失败\n",
      "125\n",
      "https://www.chanmama.com/promotionBrandDetail/0523012777557 爬取失败\n",
      "126\n",
      "https://www.chanmama.com/promotionBrandDetail/0287439187158 爬取失败\n",
      "127\n",
      "https://www.chanmama.com/promotionBrandDetail/0785009404672 爬取失败\n",
      "128\n",
      "https://www.chanmama.com/promotionBrandDetail/0548323091989 爬取失败\n",
      "129\n",
      "https://www.chanmama.com/promotionBrandDetail/0261977110741 爬取失败\n",
      "130\n"
     ]
    },
    {
     "name": "stderr",
     "output_type": "stream",
     "text": [
      "\n",
      "KeyboardInterrupt\n",
      "\n"
     ]
    }
   ],
   "source": [
    "# shop_data=[]\n",
    "# error_link=[]\n",
    "i=1\n",
    "for link in links[400:1000]:\n",
    "    print(i)\n",
    "    i+=1\n",
    "    driver.get(link)\n",
    "    try:\n",
    "        shop_data.append(get_shop_data(driver))\n",
    "        print(link,'爬取成功')\n",
    "    except:\n",
    "        print(link,'爬取失败')\n",
    "        error_link.append(link)"
   ]
  },
  {
   "cell_type": "code",
   "execution_count": 116,
   "id": "21f3435f",
   "metadata": {},
   "outputs": [],
   "source": [
    "df=pd.concat([chanmama,pd.DataFrame(shop_data).drop_duplicates()])\n",
    "with pd.ExcelWriter('C:/Users/HP/Desktop/yto/项目测试路径/eloan_crawler/data/美妆护肤类.xlsx', engine='openpyxl') as writer:\n",
    "    df.to_excel(writer, sheet_name='sheet1', index=False)"
   ]
  },
  {
   "cell_type": "code",
   "execution_count": 115,
   "id": "7cf0bddc",
   "metadata": {},
   "outputs": [
    {
     "data": {
      "text/html": [
       "<div>\n",
       "<style scoped>\n",
       "    .dataframe tbody tr th:only-of-type {\n",
       "        vertical-align: middle;\n",
       "    }\n",
       "\n",
       "    .dataframe tbody tr th {\n",
       "        vertical-align: top;\n",
       "    }\n",
       "\n",
       "    .dataframe thead th {\n",
       "        text-align: right;\n",
       "    }\n",
       "</style>\n",
       "<table border=\"1\" class=\"dataframe\">\n",
       "  <thead>\n",
       "    <tr style=\"text-align: right;\">\n",
       "      <th></th>\n",
       "      <th>0</th>\n",
       "      <th>1</th>\n",
       "      <th>2</th>\n",
       "      <th>3</th>\n",
       "      <th>4</th>\n",
       "      <th>5</th>\n",
       "      <th>6</th>\n",
       "      <th>7</th>\n",
       "      <th>8</th>\n",
       "      <th>9</th>\n",
       "      <th>...</th>\n",
       "      <th>436</th>\n",
       "      <th>437</th>\n",
       "      <th>438</th>\n",
       "      <th>439</th>\n",
       "      <th>440</th>\n",
       "      <th>441</th>\n",
       "      <th>442</th>\n",
       "      <th>443</th>\n",
       "      <th>444</th>\n",
       "      <th>445</th>\n",
       "    </tr>\n",
       "  </thead>\n",
       "  <tbody>\n",
       "    <tr>\n",
       "      <th>0</th>\n",
       "      <td>CAIV</td>\n",
       "      <td>美妆护肤:100%</td>\n",
       "      <td>达人号为主;直播为主</td>\n",
       "      <td>10-50元居多</td>\n",
       "      <td>NaN</td>\n",
       "      <td>\";美妆护肤;\"近30天行业排名;#6,472</td>\n",
       "      <td>06/13-06/13</td>\n",
       "      <td>75~100</td>\n",
       "      <td>1~25</td>\n",
       "      <td>22.8</td>\n",
       "      <td>...</td>\n",
       "      <td>0%</td>\n",
       "      <td>0</td>\n",
       "      <td>16.77%</td>\n",
       "      <td>25~50</td>\n",
       "      <td>100%</td>\n",
       "      <td>100~250</td>\n",
       "      <td>0%</td>\n",
       "      <td>0</td>\n",
       "      <td>0%</td>\n",
       "      <td>0</td>\n",
       "    </tr>\n",
       "    <tr>\n",
       "      <th>1</th>\n",
       "      <td>朽心</td>\n",
       "      <td>美妆护肤:100%</td>\n",
       "      <td>商家自营号为主;直播为主</td>\n",
       "      <td>10-50元居多</td>\n",
       "      <td>NaN</td>\n",
       "      <td>\";美妆护肤;\"近30天行业排名;#4,063</td>\n",
       "      <td>06/13-06/13</td>\n",
       "      <td>75~100</td>\n",
       "      <td>1~25</td>\n",
       "      <td>10.53</td>\n",
       "      <td>...</td>\n",
       "      <td>2.15%</td>\n",
       "      <td>75~100</td>\n",
       "      <td>33.08%</td>\n",
       "      <td>1000~2500</td>\n",
       "      <td>100%</td>\n",
       "      <td>1000~2500</td>\n",
       "      <td>0%</td>\n",
       "      <td>0</td>\n",
       "      <td>0%</td>\n",
       "      <td>0</td>\n",
       "    </tr>\n",
       "    <tr>\n",
       "      <th>2</th>\n",
       "      <td>BRILLIANT　COLORS</td>\n",
       "      <td>美妆护肤:100%</td>\n",
       "      <td>达人号为主;直播为主</td>\n",
       "      <td>50-100元居多</td>\n",
       "      <td>男性;31-40、18-23岁;湖北省</td>\n",
       "      <td>\";美妆护肤;\"近30天行业排名;#5,006</td>\n",
       "      <td>06/13-06/13</td>\n",
       "      <td>75~100</td>\n",
       "      <td>1~25</td>\n",
       "      <td>79</td>\n",
       "      <td>...</td>\n",
       "      <td>0%</td>\n",
       "      <td>0</td>\n",
       "      <td>6.54%</td>\n",
       "      <td>7500~1w</td>\n",
       "      <td>100%</td>\n",
       "      <td>10w~25w</td>\n",
       "      <td>0%</td>\n",
       "      <td>0</td>\n",
       "      <td>0%</td>\n",
       "      <td>0</td>\n",
       "    </tr>\n",
       "    <tr>\n",
       "      <th>3</th>\n",
       "      <td>卓泽</td>\n",
       "      <td>美妆护肤:100%</td>\n",
       "      <td>商家自营号为主;直播为主</td>\n",
       "      <td>50-100元居多</td>\n",
       "      <td>NaN</td>\n",
       "      <td>\";美妆护肤;\"近30天行业排名;#6,082</td>\n",
       "      <td>06/13-06/13</td>\n",
       "      <td>100~250</td>\n",
       "      <td>1~25</td>\n",
       "      <td>53.23</td>\n",
       "      <td>...</td>\n",
       "      <td>0%</td>\n",
       "      <td>0</td>\n",
       "      <td>16.1%</td>\n",
       "      <td>1000~2500</td>\n",
       "      <td>100%</td>\n",
       "      <td>5000~7500</td>\n",
       "      <td>0%</td>\n",
       "      <td>0</td>\n",
       "      <td>0%</td>\n",
       "      <td>0</td>\n",
       "    </tr>\n",
       "    <tr>\n",
       "      <th>4</th>\n",
       "      <td>IRY</td>\n",
       "      <td>美妆护肤:100%</td>\n",
       "      <td>品牌自营号为主;直播为主</td>\n",
       "      <td>500-1000元居多</td>\n",
       "      <td>NaN</td>\n",
       "      <td>\";美妆护肤;\"近30天行业排名;#4,173</td>\n",
       "      <td>06/13-06/13</td>\n",
       "      <td>0</td>\n",
       "      <td>0</td>\n",
       "      <td>0</td>\n",
       "      <td>...</td>\n",
       "      <td>0%</td>\n",
       "      <td>0</td>\n",
       "      <td>18.8%</td>\n",
       "      <td>2500~5000</td>\n",
       "      <td>100%</td>\n",
       "      <td>1w~2.5w</td>\n",
       "      <td>0%</td>\n",
       "      <td>0</td>\n",
       "      <td>0%</td>\n",
       "      <td>0</td>\n",
       "    </tr>\n",
       "    <tr>\n",
       "      <th>...</th>\n",
       "      <td>...</td>\n",
       "      <td>...</td>\n",
       "      <td>...</td>\n",
       "      <td>...</td>\n",
       "      <td>...</td>\n",
       "      <td>...</td>\n",
       "      <td>...</td>\n",
       "      <td>...</td>\n",
       "      <td>...</td>\n",
       "      <td>...</td>\n",
       "      <td>...</td>\n",
       "      <td>...</td>\n",
       "      <td>...</td>\n",
       "      <td>...</td>\n",
       "      <td>...</td>\n",
       "      <td>...</td>\n",
       "      <td>...</td>\n",
       "      <td>...</td>\n",
       "      <td>...</td>\n",
       "      <td>...</td>\n",
       "      <td>...</td>\n",
       "    </tr>\n",
       "    <tr>\n",
       "      <th>582</th>\n",
       "      <td>Acaderma/爱珂黛美</td>\n",
       "      <td>美妆护肤:100%</td>\n",
       "      <td>达人号为主;直播为主</td>\n",
       "      <td>500-1000元居多</td>\n",
       "      <td>NaN</td>\n",
       "      <td>\";美妆护肤;\"近30天行业排名;#930</td>\n",
       "      <td>06/15-06/15</td>\n",
       "      <td>500~750</td>\n",
       "      <td>1~25</td>\n",
       "      <td>689</td>\n",
       "      <td>...</td>\n",
       "      <td>0%</td>\n",
       "      <td>0</td>\n",
       "      <td>16.76%</td>\n",
       "      <td>7500~1w</td>\n",
       "      <td>100%</td>\n",
       "      <td>2.5w~5w</td>\n",
       "      <td>0%</td>\n",
       "      <td>0</td>\n",
       "      <td>0%</td>\n",
       "      <td>0</td>\n",
       "    </tr>\n",
       "    <tr>\n",
       "      <th>583</th>\n",
       "      <td>Blumarine</td>\n",
       "      <td>美妆护肤:100%</td>\n",
       "      <td>达人号为主;直播为主</td>\n",
       "      <td>100-300元居多</td>\n",
       "      <td>NaN</td>\n",
       "      <td>\";美妆护肤;\"近30天行业排名;#560</td>\n",
       "      <td>06/15-06/15</td>\n",
       "      <td>0</td>\n",
       "      <td>0</td>\n",
       "      <td>0</td>\n",
       "      <td>...</td>\n",
       "      <td>0%</td>\n",
       "      <td>0</td>\n",
       "      <td>7.78%</td>\n",
       "      <td>5000~7500</td>\n",
       "      <td>59.73%</td>\n",
       "      <td>2.5w~5w</td>\n",
       "      <td>40.27%</td>\n",
       "      <td>1w~2.5w</td>\n",
       "      <td>0%</td>\n",
       "      <td>0</td>\n",
       "    </tr>\n",
       "    <tr>\n",
       "      <th>584</th>\n",
       "      <td>Dr.Jart+/蒂佳婷</td>\n",
       "      <td>美妆护肤:100%</td>\n",
       "      <td>品牌自营号为主;直播为主</td>\n",
       "      <td>300-500元居多</td>\n",
       "      <td>女性;31-40、24-30岁;江苏、浙江、广东省</td>\n",
       "      <td>\";美妆护肤;\"近30天行业排名;#367</td>\n",
       "      <td>06/15-06/15</td>\n",
       "      <td>2.5w~5w</td>\n",
       "      <td>1000~2500</td>\n",
       "      <td>25.9</td>\n",
       "      <td>...</td>\n",
       "      <td>0.27%</td>\n",
       "      <td>2500~5000</td>\n",
       "      <td>4.86%</td>\n",
       "      <td>5w~7.5w</td>\n",
       "      <td>95.88%</td>\n",
       "      <td>100w~250w</td>\n",
       "      <td>4.12%</td>\n",
       "      <td>5w~7.5w</td>\n",
       "      <td>0%</td>\n",
       "      <td>0</td>\n",
       "    </tr>\n",
       "    <tr>\n",
       "      <th>585</th>\n",
       "      <td>哈药生物</td>\n",
       "      <td>美妆护肤:100%</td>\n",
       "      <td>品牌自营号为主;直播为主</td>\n",
       "      <td>300-500元居多</td>\n",
       "      <td>女性;31-40、24-30岁;黑龙江、辽宁、山东省</td>\n",
       "      <td>\";美妆护肤;\"近30天行业排名;#613</td>\n",
       "      <td>06/15-06/15</td>\n",
       "      <td>1w~2.5w</td>\n",
       "      <td>75~100</td>\n",
       "      <td>227.5</td>\n",
       "      <td>...</td>\n",
       "      <td>0%</td>\n",
       "      <td>0</td>\n",
       "      <td>9.01%</td>\n",
       "      <td>5000~7500</td>\n",
       "      <td>100%</td>\n",
       "      <td>5w~7.5w</td>\n",
       "      <td>0%</td>\n",
       "      <td>0</td>\n",
       "      <td>0%</td>\n",
       "      <td>0</td>\n",
       "    </tr>\n",
       "    <tr>\n",
       "      <th>586</th>\n",
       "      <td>RUIDU/芮度</td>\n",
       "      <td>美妆护肤:71.37%</td>\n",
       "      <td>达人号为主;直播为主</td>\n",
       "      <td>10-50元居多</td>\n",
       "      <td>女性;31-40、41-50岁;四川、广东、重庆省</td>\n",
       "      <td>\";美妆护肤;\"近30天行业排名;#491</td>\n",
       "      <td>06/15-06/15</td>\n",
       "      <td>1w~2.5w</td>\n",
       "      <td>500~750</td>\n",
       "      <td>39.77</td>\n",
       "      <td>...</td>\n",
       "      <td>0.97%</td>\n",
       "      <td>5w~7.5w</td>\n",
       "      <td>5.21%</td>\n",
       "      <td>25w~50w</td>\n",
       "      <td>100%</td>\n",
       "      <td>500w~750w</td>\n",
       "      <td>0%</td>\n",
       "      <td>50~75</td>\n",
       "      <td>0%</td>\n",
       "      <td>0</td>\n",
       "    </tr>\n",
       "  </tbody>\n",
       "</table>\n",
       "<p>1469 rows × 446 columns</p>\n",
       "</div>"
      ],
      "text/plain": [
       "                  0            1             2            3    \\\n",
       "0                CAIV    美妆护肤:100%    达人号为主;直播为主     10-50元居多   \n",
       "1                  朽心    美妆护肤:100%  商家自营号为主;直播为主     10-50元居多   \n",
       "2    BRILLIANT　COLORS    美妆护肤:100%    达人号为主;直播为主    50-100元居多   \n",
       "3                  卓泽    美妆护肤:100%  商家自营号为主;直播为主    50-100元居多   \n",
       "4                 IRY    美妆护肤:100%  品牌自营号为主;直播为主  500-1000元居多   \n",
       "..                ...          ...           ...          ...   \n",
       "582     Acaderma/爱珂黛美    美妆护肤:100%    达人号为主;直播为主  500-1000元居多   \n",
       "583         Blumarine    美妆护肤:100%    达人号为主;直播为主   100-300元居多   \n",
       "584      Dr.Jart+/蒂佳婷    美妆护肤:100%  品牌自营号为主;直播为主   300-500元居多   \n",
       "585              哈药生物    美妆护肤:100%  品牌自营号为主;直播为主   300-500元居多   \n",
       "586          RUIDU/芮度  美妆护肤:71.37%    达人号为主;直播为主     10-50元居多   \n",
       "\n",
       "                            4                        5            6    \\\n",
       "0                           NaN  \";美妆护肤;\"近30天行业排名;#6,472  06/13-06/13   \n",
       "1                           NaN  \";美妆护肤;\"近30天行业排名;#4,063  06/13-06/13   \n",
       "2           男性;31-40、18-23岁;湖北省  \";美妆护肤;\"近30天行业排名;#5,006  06/13-06/13   \n",
       "3                           NaN  \";美妆护肤;\"近30天行业排名;#6,082  06/13-06/13   \n",
       "4                           NaN  \";美妆护肤;\"近30天行业排名;#4,173  06/13-06/13   \n",
       "..                          ...                      ...          ...   \n",
       "582                         NaN    \";美妆护肤;\"近30天行业排名;#930  06/15-06/15   \n",
       "583                         NaN    \";美妆护肤;\"近30天行业排名;#560  06/15-06/15   \n",
       "584   女性;31-40、24-30岁;江苏、浙江、广东省    \";美妆护肤;\"近30天行业排名;#367  06/15-06/15   \n",
       "585  女性;31-40、24-30岁;黑龙江、辽宁、山东省    \";美妆护肤;\"近30天行业排名;#613  06/15-06/15   \n",
       "586   女性;31-40、41-50岁;四川、广东、重庆省    \";美妆护肤;\"近30天行业排名;#491  06/15-06/15   \n",
       "\n",
       "         7          8      9    ...    436        437     438        439  \\\n",
       "0     75~100       1~25   22.8  ...     0%          0  16.77%      25~50   \n",
       "1     75~100       1~25  10.53  ...  2.15%     75~100  33.08%  1000~2500   \n",
       "2     75~100       1~25     79  ...     0%          0   6.54%    7500~1w   \n",
       "3    100~250       1~25  53.23  ...     0%          0   16.1%  1000~2500   \n",
       "4          0          0      0  ...     0%          0   18.8%  2500~5000   \n",
       "..       ...        ...    ...  ...    ...        ...     ...        ...   \n",
       "582  500~750       1~25    689  ...     0%          0  16.76%    7500~1w   \n",
       "583        0          0      0  ...     0%          0   7.78%  5000~7500   \n",
       "584  2.5w~5w  1000~2500   25.9  ...  0.27%  2500~5000   4.86%    5w~7.5w   \n",
       "585  1w~2.5w     75~100  227.5  ...     0%          0   9.01%  5000~7500   \n",
       "586  1w~2.5w    500~750  39.77  ...  0.97%    5w~7.5w   5.21%    25w~50w   \n",
       "\n",
       "        440        441     442      443 444 445  \n",
       "0      100%    100~250      0%        0  0%   0  \n",
       "1      100%  1000~2500      0%        0  0%   0  \n",
       "2      100%    10w~25w      0%        0  0%   0  \n",
       "3      100%  5000~7500      0%        0  0%   0  \n",
       "4      100%    1w~2.5w      0%        0  0%   0  \n",
       "..      ...        ...     ...      ...  ..  ..  \n",
       "582    100%    2.5w~5w      0%        0  0%   0  \n",
       "583  59.73%    2.5w~5w  40.27%  1w~2.5w  0%   0  \n",
       "584  95.88%  100w~250w   4.12%  5w~7.5w  0%   0  \n",
       "585    100%    5w~7.5w      0%        0  0%   0  \n",
       "586    100%  500w~750w      0%    50~75  0%   0  \n",
       "\n",
       "[1469 rows x 446 columns]"
      ]
     },
     "execution_count": 115,
     "metadata": {},
     "output_type": "execute_result"
    }
   ],
   "source": [
    "df"
   ]
  },
  {
   "cell_type": "code",
   "execution_count": 99,
   "id": "25423314f99c5918",
   "metadata": {
    "ExecuteTime": {
     "start_time": "2024-06-14T07:35:05.563107100Z"
    },
    "scrolled": true
   },
   "outputs": [],
   "source": [
    "pd.concat([chanmama,pd.DataFrame(shop_data).drop_duplicates()]).to_excel('C:/Users/HP/Desktop/yto/项目测试路径/eloan_crawler/data/美妆护肤类.xlsx',index=False)"
   ]
  },
  {
   "cell_type": "code",
   "execution_count": 109,
   "id": "343e4f321f4e2cdb",
   "metadata": {},
   "outputs": [],
   "source": [
    "# chanmama_data.to_excel('C:/Users/HP/Desktop/yto/项目测试路径/eloan_crawler/data/美妆护肤类.xlsx',index=False)"
   ]
  },
  {
   "cell_type": "code",
   "execution_count": 98,
   "id": "dc0c22dc",
   "metadata": {},
   "outputs": [],
   "source": [
    "chanmama=pd.read_excel('C:/Users/HP/Desktop/yto/项目测试路径/eloan_crawler/data/美妆护肤类.xlsx')"
   ]
  },
  {
   "cell_type": "code",
   "execution_count": null,
   "id": "625fdbba",
   "metadata": {},
   "outputs": [],
   "source": []
  }
 ],
 "metadata": {
  "kernelspec": {
   "display_name": "Python 3 (ipykernel)",
   "language": "python",
   "name": "python3"
  },
  "language_info": {
   "codemirror_mode": {
    "name": "ipython",
    "version": 3
   },
   "file_extension": ".py",
   "mimetype": "text/x-python",
   "name": "python",
   "nbconvert_exporter": "python",
   "pygments_lexer": "ipython3",
   "version": "3.11.5"
  },
  "toc": {
   "base_numbering": 1,
   "nav_menu": {},
   "number_sections": true,
   "sideBar": true,
   "skip_h1_title": false,
   "title_cell": "Table of Contents",
   "title_sidebar": "Contents",
   "toc_cell": false,
   "toc_position": {
    "height": "calc(100% - 180px)",
    "left": "10px",
    "top": "150px",
    "width": "165px"
   },
   "toc_section_display": true,
   "toc_window_display": true
  }
 },
 "nbformat": 4,
 "nbformat_minor": 5
}
